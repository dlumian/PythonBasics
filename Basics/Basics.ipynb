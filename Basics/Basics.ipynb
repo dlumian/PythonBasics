{
 "cells": [
  {
   "cell_type": "markdown",
   "id": "3e4f66fd",
   "metadata": {},
   "source": [
    "# Basic Python"
   ]
  },
  {
   "cell_type": "markdown",
   "id": "ce49c461",
   "metadata": {},
   "source": [
    "This notebook introduces basic Python concepts and syntax including data types, variable assignment and common built-in functionality."
   ]
  },
  {
   "cell_type": "markdown",
   "id": "5f1c8808-6146-40ca-b142-35838df50665",
   "metadata": {},
   "source": [
    "## Data Types\n",
    "\n",
    "Intro to intergers, strings, floats, and Boolean values. "
   ]
  },
  {
   "cell_type": "code",
   "execution_count": null,
   "id": "c09bfd44",
   "metadata": {},
   "outputs": [],
   "source": [
    "# Intergers\n",
    "# Passing 1 returns a 1\n",
    "1"
   ]
  },
  {
   "cell_type": "code",
   "execution_count": null,
   "id": "d6b911d2-8450-4aad-a4b1-6832eaf69294",
   "metadata": {},
   "outputs": [],
   "source": [
    "# Check type of object\n",
    "type(1)"
   ]
  },
  {
   "cell_type": "code",
   "execution_count": null,
   "id": "b0023290",
   "metadata": {},
   "outputs": [],
   "source": [
    "# Assignment\n",
    "# No result is returned\n",
    "# But a is not assigned the value of 1\n",
    "a = 1"
   ]
  },
  {
   "cell_type": "code",
   "execution_count": null,
   "id": "d54894f7",
   "metadata": {},
   "outputs": [],
   "source": [
    "# Calling `a` returns 1\n",
    "a"
   ]
  },
  {
   "cell_type": "code",
   "execution_count": null,
   "id": "204e6833-5294-4eb7-8fc7-ad8fa6f9fb25",
   "metadata": {},
   "outputs": [],
   "source": [
    "# Check type of a\n",
    "type(a)"
   ]
  },
  {
   "cell_type": "code",
   "execution_count": null,
   "id": "c1af8a1a",
   "metadata": {},
   "outputs": [],
   "source": [
    "# Can reference a variable multiple times\n",
    "# Returns 2\n",
    "a + a"
   ]
  },
  {
   "cell_type": "code",
   "execution_count": null,
   "id": "11de5e2f-b5f2-4e3c-9d80-659bbf8700c9",
   "metadata": {},
   "outputs": [],
   "source": [
    "# `=` is used for assignment\n",
    "# '==' is used for evaluation/comparison\n",
    "a == 1"
   ]
  },
  {
   "cell_type": "code",
   "execution_count": null,
   "id": "8247442a-b2b2-4acf-a743-128f679cdb62",
   "metadata": {},
   "outputs": [],
   "source": [
    "# b is assigned to a string value of 1\n",
    "b ='1'\n",
    "b"
   ]
  },
  {
   "cell_type": "code",
   "execution_count": null,
   "id": "58159801-995f-485a-94dc-1f66e3e51ee2",
   "metadata": {},
   "outputs": [],
   "source": [
    "# Check type of b\n",
    "type(b)"
   ]
  },
  {
   "cell_type": "code",
   "execution_count": null,
   "id": "b33b3471-6c1c-4c4d-b1f0-8f8185e637b8",
   "metadata": {},
   "outputs": [],
   "source": [
    "# Operations often work differently on strings\n",
    "# So checking data type can help debug errors\n",
    "b + b"
   ]
  },
  {
   "cell_type": "code",
   "execution_count": null,
   "id": "055cd510-f161-4643-a422-71fb82c1eaa9",
   "metadata": {},
   "outputs": [],
   "source": [
    "# Assign and return c\n",
    "c = 1.0\n",
    "c"
   ]
  },
  {
   "cell_type": "code",
   "execution_count": null,
   "id": "01600743-11cb-45ed-ad2b-e2d3362ed144",
   "metadata": {},
   "outputs": [],
   "source": [
    "# Check type of c\n",
    "type(c)"
   ]
  },
  {
   "cell_type": "code",
   "execution_count": null,
   "id": "afa8d913-74c8-4468-aa43-5bdf97b9678f",
   "metadata": {},
   "outputs": [],
   "source": [
    "# Check float addition\n",
    "c + c"
   ]
  },
  {
   "cell_type": "code",
   "execution_count": null,
   "id": "6e8d3f84-50a9-475a-bf11-1578cc0c301b",
   "metadata": {},
   "outputs": [],
   "source": [
    "# Compare with adding an interger and a float\n",
    "a + c"
   ]
  },
  {
   "cell_type": "code",
   "execution_count": null,
   "id": "fcdb42df-0f99-4249-ada8-b1cc016faf25",
   "metadata": {},
   "outputs": [],
   "source": [
    "# Verify a is equal to a\n",
    "# Returns Boolean\n",
    "a == a"
   ]
  },
  {
   "cell_type": "code",
   "execution_count": null,
   "id": "05a3288e-7102-4d8c-ad6c-9c8c54805052",
   "metadata": {},
   "outputs": [],
   "source": [
    "# Very a (int) not equal to b (str)\n",
    "# Returns Boolean\n",
    "a == b"
   ]
  },
  {
   "cell_type": "code",
   "execution_count": null,
   "id": "04dcd32e-1d21-4963-98d6-5da43b43e3b3",
   "metadata": {},
   "outputs": [],
   "source": [
    "# Int a is evaluated as eqaul to float c\n",
    "a == c"
   ]
  },
  {
   "cell_type": "markdown",
   "id": "fb5ddba4-82de-426f-84b7-bbce9be34a0c",
   "metadata": {},
   "source": [
    "## Data Type Recap\n",
    "\n",
    "The cells above introduces intergers (a), stings (b), floats (c), and Boolean True/False response when comparing a, b, and c.\n",
    "\n",
    "Data manipulation and analysis often requires a specific form of input or oupt. Using the built-in `type` function can verify data type."
   ]
  },
  {
   "cell_type": "markdown",
   "id": "bbdf2511",
   "metadata": {},
   "source": [
    "## Math\n",
    "\n",
    "Python is often used for data science and machine learning. Python contains a number of packages to deal with calculations.\n",
    "\n",
    "Shown here are the most simpliest methods for basic computation."
   ]
  },
  {
   "cell_type": "code",
   "execution_count": null,
   "id": "52256c31",
   "metadata": {},
   "outputs": [],
   "source": [
    "# Basic addition example\n",
    "6+6"
   ]
  },
  {
   "cell_type": "code",
   "execution_count": null,
   "id": "a90e27c6",
   "metadata": {},
   "outputs": [],
   "source": [
    "# Basic subtraction example\n",
    "6-6"
   ]
  },
  {
   "cell_type": "code",
   "execution_count": null,
   "id": "334e1664",
   "metadata": {},
   "outputs": [],
   "source": [
    "# Basic multiplication example\n",
    "6*6"
   ]
  },
  {
   "cell_type": "code",
   "execution_count": null,
   "id": "31e6a483",
   "metadata": {},
   "outputs": [],
   "source": [
    "# Basic exponent example\n",
    "6**6"
   ]
  },
  {
   "cell_type": "code",
   "execution_count": null,
   "id": "c2d84e93",
   "metadata": {},
   "outputs": [],
   "source": [
    "# Basic division example\n",
    "3/6"
   ]
  },
  {
   "cell_type": "markdown",
   "id": "7806af91",
   "metadata": {},
   "source": [
    "## String Manipulation\n",
    "\n",
    "String has unique options that do not always match numerical operations. Strings are indicated by the use of single or double qoutes, or triple quotes if multiple lines."
   ]
  },
  {
   "cell_type": "code",
   "execution_count": null,
   "id": "542534d4",
   "metadata": {},
   "outputs": [],
   "source": [
    "# Create a string\n",
    "\"This is a string!\""
   ]
  },
  {
   "cell_type": "code",
   "execution_count": null,
   "id": "87128b2f",
   "metadata": {},
   "outputs": [],
   "source": [
    "# Assign a string to a variable\n",
    "my_str = \"This is a string!\""
   ]
  },
  {
   "cell_type": "code",
   "execution_count": null,
   "id": "3d6a1b10",
   "metadata": {},
   "outputs": [],
   "source": [
    "# String indexing starts at 0 in Python\n",
    "my_str[0]"
   ]
  },
  {
   "cell_type": "code",
   "execution_count": null,
   "id": "a566ce05-ebcd-4e88-996d-34578da3d4bc",
   "metadata": {},
   "outputs": [],
   "source": [
    "# String indexing can also be reversed\n",
    "my_str[-1]"
   ]
  },
  {
   "cell_type": "code",
   "execution_count": null,
   "id": "47119cae",
   "metadata": {},
   "outputs": [],
   "source": [
    "# Ranges can be selected with a :\n",
    "my_str[10:16]"
   ]
  },
  {
   "cell_type": "code",
   "execution_count": null,
   "id": "e12af3cf",
   "metadata": {},
   "outputs": [],
   "source": [
    "# A step can also be specified as the third parameter in the brackets.\n",
    "my_str[10:16:2]"
   ]
  },
  {
   "cell_type": "code",
   "execution_count": null,
   "id": "0ccd9e28",
   "metadata": {},
   "outputs": [],
   "source": [
    "# Strings can be concated\n",
    "# NOTE: it is the same symbol for addition above\n",
    "another_str = ' It lives in Python!'\n",
    "my_str + another_str"
   ]
  },
  {
   "cell_type": "markdown",
   "id": "fba317f7",
   "metadata": {},
   "source": [
    "## Lists\n",
    "\n",
    "Lists are a very common structure in Python for organizing similar items and creating a series to iterate over.\n",
    "\n",
    "Lists are set up using `[]` with a comma seperating each value. "
   ]
  },
  {
   "cell_type": "code",
   "execution_count": null,
   "id": "0b517480",
   "metadata": {},
   "outputs": [],
   "source": [
    "# Lists can contain multiple data types (including more lists!)\n",
    "my_list = [1, 'something', 3, [42, 27]]"
   ]
  },
  {
   "cell_type": "code",
   "execution_count": null,
   "id": "2a8dd1fc",
   "metadata": {},
   "outputs": [],
   "source": [
    "# Show the list\n",
    "my_list"
   ]
  },
  {
   "cell_type": "code",
   "execution_count": null,
   "id": "43f30107",
   "metadata": {},
   "outputs": [],
   "source": [
    "# Index the list\n",
    "my_list[3]"
   ]
  },
  {
   "cell_type": "code",
   "execution_count": null,
   "id": "b4122ade",
   "metadata": {},
   "outputs": [],
   "source": [
    "# Iterate over the list\n",
    "for x in my_list:\n",
    "    print(x)"
   ]
  },
  {
   "cell_type": "code",
   "execution_count": null,
   "id": "1e06b9b6-cc78-4ea9-b6a0-03ac2ea943c3",
   "metadata": {},
   "outputs": [],
   "source": [
    "# Lists are also mutable\n",
    "# This allows modification of values inside it\n",
    "my_list2 = ['a', 'b', 'c', 'd']"
   ]
  },
  {
   "cell_type": "code",
   "execution_count": null,
   "id": "dfa30dcf-163e-467b-8815-f05e846ffbf0",
   "metadata": {},
   "outputs": [],
   "source": [
    "# Create a new list\n",
    "my_list2"
   ]
  },
  {
   "cell_type": "code",
   "execution_count": null,
   "id": "8b9e794f-0f2a-4661-b0dc-c4c175f969dd",
   "metadata": {},
   "outputs": [],
   "source": [
    "# Locate item to change\n",
    "my_list2[-2]"
   ]
  },
  {
   "cell_type": "code",
   "execution_count": null,
   "id": "a31fd95a-256f-41ef-bfde-91b30d3da477",
   "metadata": {},
   "outputs": [],
   "source": [
    "# Change value of that item in list\n",
    "my_list2[-2] = 'cat'"
   ]
  },
  {
   "cell_type": "code",
   "execution_count": null,
   "id": "188c9224-1dcb-4ecf-9662-ef39434084aa",
   "metadata": {},
   "outputs": [],
   "source": [
    "# Check update worked\n",
    "my_list2"
   ]
  },
  {
   "cell_type": "markdown",
   "id": "82729890",
   "metadata": {},
   "source": [
    "## Dictionaries\n",
    "\n",
    "A dictionary is a mutable, unordered collection of items. Each item is a key-value pair. Dictionaries are indexed by keys, which can be any immutable type such as strings, numbers, or tuples."
   ]
  },
  {
   "cell_type": "code",
   "execution_count": null,
   "id": "df951e90",
   "metadata": {},
   "outputs": [],
   "source": [
    "# Create a dictionary\n",
    "my_dict = {\"Value_1\": 1, \"Value_2\":2}"
   ]
  },
  {
   "cell_type": "code",
   "execution_count": null,
   "id": "b240e96e",
   "metadata": {},
   "outputs": [],
   "source": [
    "# show dictionary\n",
    "my_dict"
   ]
  },
  {
   "cell_type": "code",
   "execution_count": null,
   "id": "24de4672",
   "metadata": {},
   "outputs": [],
   "source": [
    "# Access a value using a key\n",
    "my_dict['Value_1']"
   ]
  },
  {
   "cell_type": "code",
   "execution_count": null,
   "id": "dd658d49",
   "metadata": {},
   "outputs": [],
   "source": [
    "# Iterate over a dictionary\n",
    "for key, value in my_dict.items():\n",
    "    print(key)\n",
    "    print(value)"
   ]
  },
  {
   "cell_type": "code",
   "execution_count": null,
   "id": "182a29f4-05de-4b5d-9dd9-eb02e78d3156",
   "metadata": {},
   "outputs": [],
   "source": [
    "# Adding a new key-value pair\n",
    "my_dict['Value_3'] = '3'"
   ]
  },
  {
   "cell_type": "code",
   "execution_count": null,
   "id": "df67edc3-9388-4a84-9d75-71284a03c678",
   "metadata": {},
   "outputs": [],
   "source": [
    "# Iterate over a dictionary\n",
    "for key, value in my_dict.items():\n",
    "    print(key)\n",
    "    print(value)"
   ]
  },
  {
   "cell_type": "code",
   "execution_count": null,
   "id": "b3a7c6f3-a89d-4455-9685-c6e8a8fff1d0",
   "metadata": {},
   "outputs": [],
   "source": [
    "# Updating an existing key-value pair\n",
    "my_dict['Value_3'] = 50000"
   ]
  },
  {
   "cell_type": "code",
   "execution_count": null,
   "id": "a7a820d3-0a42-41f1-9543-61df5add8d09",
   "metadata": {},
   "outputs": [],
   "source": [
    "# Iterate over a dictionary\n",
    "for key, value in my_dict.items():\n",
    "    print(key)\n",
    "    print(value)"
   ]
  },
  {
   "cell_type": "markdown",
   "id": "6574e7a4",
   "metadata": {},
   "source": [
    "## Booleans\n",
    "\n",
    "Booleans are `True` and `False` keywords in Python. Booleans are often used to structure workflows by checking if a certain condition has been met.\n",
    "\n",
    "For example, a spam filter in Python should only run when new emails come in. In which case something as this may be used:\n",
    "\n",
    "```\n",
    "if has_new_email == True:\n",
    "    for email in new:\n",
    "        run_spam_check(email)\n",
    "else:\n",
    "    sleep(15)\n",
    "```"
   ]
  },
  {
   "cell_type": "code",
   "execution_count": null,
   "id": "d60753e0",
   "metadata": {},
   "outputs": [],
   "source": [
    "# Assign two vars\n",
    "my_bool = True\n",
    "my_other_bool = False"
   ]
  },
  {
   "cell_type": "code",
   "execution_count": null,
   "id": "0c5a6216",
   "metadata": {},
   "outputs": [],
   "source": [
    "# Show value\n",
    "my_bool"
   ]
  },
  {
   "cell_type": "code",
   "execution_count": null,
   "id": "ec3849b8",
   "metadata": {},
   "outputs": [],
   "source": [
    "# Show value\n",
    "my_other_bool"
   ]
  },
  {
   "cell_type": "code",
   "execution_count": null,
   "id": "cea298ad",
   "metadata": {},
   "outputs": [],
   "source": [
    "# Note bools are special values and not just strings\n",
    "my_bool=='True'"
   ]
  },
  {
   "cell_type": "code",
   "execution_count": null,
   "id": "def757e7-40f6-456d-975e-7f013925699d",
   "metadata": {},
   "outputs": [],
   "source": [
    "# Use bool for flow\n",
    "if my_bool:\n",
    "    print('This works!')"
   ]
  },
  {
   "cell_type": "code",
   "execution_count": null,
   "id": "58bc674d-528a-4c4b-ab7f-2cba052fa320",
   "metadata": {},
   "outputs": [],
   "source": [
    "# Use bool for flow\n",
    "if my_other_bool:\n",
    "    print('This works too!')"
   ]
  },
  {
   "cell_type": "code",
   "execution_count": null,
   "id": "422f4461-a621-4b64-88eb-7b0652e2d04a",
   "metadata": {},
   "outputs": [],
   "source": [
    "# Some functions evaluate bools\n",
    "print(any([True, True, True]))\n",
    "print('\\n')\n",
    "\n",
    "print(any([False, True, False]))\n",
    "print('\\n')\n",
    "\n",
    "print(all([True, True, True]))\n",
    "print('\\n')\n",
    "\n",
    "print(all([False, True, False]))\n",
    "print('\\n')"
   ]
  },
  {
   "cell_type": "markdown",
   "id": "d9699466",
   "metadata": {},
   "source": [
    "## Assignment, Comparisons, and Evaluation"
   ]
  },
  {
   "cell_type": "markdown",
   "id": "f525eeb8-c5f6-4f33-957d-6d3eb7461845",
   "metadata": {},
   "source": [
    "### Assignment\n",
    "\n",
    "Variable setting (or assignment) is the process of assigning a value to a variable. This is done using the `=` operator. Several examples have already been shown in this notebook. A final note of caution, data types may be mutable to immutable. Immutable objects can be altered once they are set.\n"
   ]
  },
  {
   "cell_type": "markdown",
   "id": "7b2c6c82-c2bd-4af2-9571-e69326776b75",
   "metadata": {},
   "source": [
    "### Evaluation/Comparison\n",
    "\n",
    "Evaluation (or comparison) involves checking the value of a variable against another value. This is typically done using comparison operators such as `==`, `!=`, `<`, `>`, `<=`, `>=`.\n",
    "\n",
    "A few initial examples with use numeric values and the latter ones reference existing variables. If you are unsure about an old variable, enter it in a new cell by itself and run that cell. The output should refresh you of its value."
   ]
  },
  {
   "cell_type": "code",
   "execution_count": null,
   "id": "5b7b699c-8168-4dad-b629-b6bd80d13854",
   "metadata": {},
   "outputs": [],
   "source": [
    "# Check equal to\n",
    "3 == 3"
   ]
  },
  {
   "cell_type": "code",
   "execution_count": null,
   "id": "ce157305-f523-47c7-89dd-d88b120cafd3",
   "metadata": {},
   "outputs": [],
   "source": [
    "# Check not equal to\n",
    "1 != 3"
   ]
  },
  {
   "cell_type": "code",
   "execution_count": null,
   "id": "60a9b2ff-5b39-4f34-b3f7-ca177b25eb80",
   "metadata": {},
   "outputs": [],
   "source": [
    "# Check less than\n",
    "5 < 3"
   ]
  },
  {
   "cell_type": "code",
   "execution_count": null,
   "id": "33fbcce4-5b99-47b0-9a5d-53c7ab751ea4",
   "metadata": {},
   "outputs": [],
   "source": [
    "# Check greater than\n",
    "5 > 3"
   ]
  },
  {
   "cell_type": "code",
   "execution_count": null,
   "id": "a61af154-bbbd-4187-a7e0-1d1b56410c20",
   "metadata": {},
   "outputs": [],
   "source": [
    "# Check less than or equal to\n",
    "3 <= 3"
   ]
  },
  {
   "cell_type": "code",
   "execution_count": null,
   "id": "08d15b8d-3882-4a67-bc35-6712b22f3f25",
   "metadata": {},
   "outputs": [],
   "source": [
    "# Check greater than or equal to"
   ]
  },
  {
   "cell_type": "code",
   "execution_count": null,
   "id": "6784d9c8-b13b-4161-9a6e-24cf0b10b0f7",
   "metadata": {},
   "outputs": [],
   "source": [
    "6>=6.01"
   ]
  },
  {
   "cell_type": "code",
   "execution_count": null,
   "id": "aaaf71a5",
   "metadata": {},
   "outputs": [],
   "source": [
    "# Evaluate if my_bool is equal to True\n",
    "my_bool == True"
   ]
  },
  {
   "cell_type": "code",
   "execution_count": null,
   "id": "28888033",
   "metadata": {},
   "outputs": [],
   "source": [
    "# Evaluate if my_other_bool is equal to True\n",
    "my_other_bool == True"
   ]
  },
  {
   "cell_type": "code",
   "execution_count": null,
   "id": "5383dd39",
   "metadata": {},
   "outputs": [],
   "source": [
    "# Check if s in my_str\n",
    "'s' in my_str"
   ]
  },
  {
   "cell_type": "code",
   "execution_count": null,
   "id": "d8498927",
   "metadata": {},
   "outputs": [],
   "source": [
    "# Check if x in my_str\n",
    "'x' in my_str"
   ]
  },
  {
   "cell_type": "code",
   "execution_count": null,
   "id": "1f55ec80",
   "metadata": {},
   "outputs": [],
   "source": [
    "# Use in to check if a list contains an element\n",
    "'something' in my_list"
   ]
  },
  {
   "cell_type": "code",
   "execution_count": null,
   "id": "b5dbc11f",
   "metadata": {},
   "outputs": [],
   "source": [
    "# Use in to check if a list contains an element\n",
    "'something else' in my_list"
   ]
  },
  {
   "cell_type": "markdown",
   "id": "2e30c839",
   "metadata": {},
   "source": [
    "## Built-in Functions\n",
    "\n",
    "Built-in functions are available in the current Python version and very commonly used. Above, we already used type, any, and all. Below are a few more quick examples of important functions.\n",
    "\n",
    "Some of the most common functions are:\n",
    "- **print:** returns value or description of object\n",
    "- **type:** returns the datatype of the object\n",
    "- **any:** checks if any passed objects evaluate to `True`\n",
    "- **all:** checks if all passed objects evaluate to `True`\n",
    "- **help:** returns documentation of passed object\n",
    "- **isinstance:** returns `True` if type of arg1 matches arg2\n",
    "- **len:** returns the length of an object\n",
    "\n",
    "To speed up examples, I will use a list with multiple value types and print the rest of each for all items in the list."
   ]
  },
  {
   "cell_type": "code",
   "execution_count": null,
   "id": "d2d8d3eb-b2b2-4f5a-9c9d-4322cc347be0",
   "metadata": {},
   "outputs": [],
   "source": [
    "a = 1\n",
    "b = 'some string in my pocket'\n",
    "c = 5.000034\n",
    "d = True"
   ]
  },
  {
   "cell_type": "code",
   "execution_count": null,
   "id": "1fc27cad-7b94-4202-b30f-afce0ce696a6",
   "metadata": {},
   "outputs": [],
   "source": [
    "test_list = [a, b, c, d]"
   ]
  },
  {
   "cell_type": "code",
   "execution_count": null,
   "id": "7745224b",
   "metadata": {},
   "outputs": [],
   "source": [
    "for i in test_list:\n",
    "    print(i)"
   ]
  },
  {
   "cell_type": "code",
   "execution_count": null,
   "id": "06a3bf0b",
   "metadata": {},
   "outputs": [],
   "source": [
    "for i in test_list:\n",
    "    print(type(i))"
   ]
  },
  {
   "cell_type": "code",
   "execution_count": null,
   "id": "0b2dbf6a-185a-4bc7-8a99-34c352f97b09",
   "metadata": {},
   "outputs": [],
   "source": [
    "# Any and all will evaluate the whole passed array\n",
    "print(any(test_list))\n",
    "print(all(test_list))"
   ]
  },
  {
   "cell_type": "code",
   "execution_count": null,
   "id": "14088789-5b1f-49e1-a8f7-cf2ff8d132ba",
   "metadata": {},
   "outputs": [],
   "source": [
    "help(isinstance)"
   ]
  },
  {
   "cell_type": "code",
   "execution_count": null,
   "id": "dcadab90-c3b4-468e-bbac-2a35e6b12887",
   "metadata": {},
   "outputs": [],
   "source": [
    "print(isinstance(1, int))\n",
    "print(isinstance(1, str))\n",
    "print(isinstance('1', int))\n",
    "print(isinstance('1', str))"
   ]
  },
  {
   "cell_type": "code",
   "execution_count": null,
   "id": "5b4a2d6b-1abd-4cae-8ff1-5a3dc62f4be9",
   "metadata": {},
   "outputs": [],
   "source": [
    "# Print will error on ints\n",
    "# Typically most useful list, dicts, and strings\n",
    "print(len(test_list))\n",
    "print(len(b))"
   ]
  },
  {
   "cell_type": "code",
   "execution_count": null,
   "id": "92066062-68e6-4913-8d78-d4b5058a344f",
   "metadata": {},
   "outputs": [],
   "source": []
  }
 ],
 "metadata": {
  "kernelspec": {
   "display_name": "Python 3 (ipykernel)",
   "language": "python",
   "name": "python3"
  },
  "language_info": {
   "codemirror_mode": {
    "name": "ipython",
    "version": 3
   },
   "file_extension": ".py",
   "mimetype": "text/x-python",
   "name": "python",
   "nbconvert_exporter": "python",
   "pygments_lexer": "ipython3",
   "version": "3.11.7"
  }
 },
 "nbformat": 4,
 "nbformat_minor": 5
}
