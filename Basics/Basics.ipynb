{
 "cells": [
  {
   "cell_type": "markdown",
   "id": "3e4f66fd",
   "metadata": {},
   "source": [
    "# Python Basics"
   ]
  },
  {
   "cell_type": "markdown",
   "id": "ce49c461",
   "metadata": {},
   "source": [
    "Python is a general purpose programming language with consideral resources for data science. \n",
    "\n",
    "This notebook introduces basic Python concepts and syntax.\n",
    "\n",
    "See [Jupyter Notebooks](./../Markdowns/JupyterNotebooks.md) for guidance on using notebooks.\n",
    "\n",
    "Comments are indicated by the `#` symbol. These lines are not executued when running code cells.\n",
    "\n",
    "Overview:\n",
    "- [Data Types]()\n",
    "\n",
    "\n",
    "- [Variables](#variables)\n",
    "- [Built-in Functions](#built-in-functions)\n",
    "\n",
    "\n",
    "- [Math](#math)\n",
    "- [String Manipulation](#string-manipulation)\n",
    "- [Lists](#Lists)\n",
    "- [Dictionaries](#dictionaries)\n",
    "- [Booleans](#booleans)\n",
    "- [Comparison and Evaluations](#comparisons-and-evaluation)\n",
    "\n",
    "\n",
    "Integers\n",
    "represent whole numbers, such as 1, 2, and 3. Integers can be positive or negative.\n",
    "Floats\n",
    "represent floating-point numbers, such as 3.14 and 2.718. Floats can be positive or negative.\n",
    "Strings\n",
    "represent text, such as \"Hello, world!\" and \"This is a string.\" Strings can be any length and can contain any characters.\n",
    "Booleans\n",
    "represent true or false values. Booleans are often used to control the flow of a program.\n",
    "\n",
    "\n",
    "\n",
    "- [Built-in functions](https://docs.python.org/3/library/functions.html)\n",
    "    - Python has many functions by default, known as `built-in` \n",
    "    - Functions expect a certain type of input and often a certain number of inputs, and will return either a value or `None` \n",
    "    - Functions can have both required and optional inputs\n",
    "    - Check the documentation of the code being used to understand required inputs and expected outputs\n",
    "    - If a value is returned, it can be assigned to a new variable.\n",
    "    - If `None` is returned, the function may modify an existing object or generate an output that is not code (e.g., writing a file).\n",
    "\n"
   ]
  },
  {
   "cell_type": "markdown",
   "id": "61bf74d1",
   "metadata": {},
   "source": [
    "## Variables\n",
    "\n",
    "Python, like many programming languages, relies on variables to create complex workflows in an intelligible manner. Python has a wide variety of [datatypes](https://docs.python.org/3/library/datatypes.html). Variable assignment helps simplify and abstract designs. That is, defining a dataframe as `df` faciliates manipulations and analysis by providing a single reference to that object.\n"
   ]
  },
  {
   "cell_type": "code",
   "execution_count": 8,
   "id": "c09bfd44",
   "metadata": {},
   "outputs": [
    {
     "data": {
      "text/plain": [
       "1"
      ]
     },
     "execution_count": 8,
     "metadata": {},
     "output_type": "execute_result"
    }
   ],
   "source": [
    "# Numeric values in Python\n",
    "# Passing `1` returns a `1`\n",
    "1"
   ]
  },
  {
   "cell_type": "code",
   "execution_count": 9,
   "id": "b0023290",
   "metadata": {},
   "outputs": [],
   "source": [
    "# Assignment, notice no result is returned\n",
    "a = 1"
   ]
  },
  {
   "cell_type": "code",
   "execution_count": 10,
   "id": "d54894f7",
   "metadata": {},
   "outputs": [
    {
     "data": {
      "text/plain": [
       "1"
      ]
     },
     "execution_count": 10,
     "metadata": {},
     "output_type": "execute_result"
    }
   ],
   "source": [
    "# Calling `a` returns 1\n",
    "a"
   ]
  },
  {
   "cell_type": "code",
   "execution_count": 11,
   "id": "c1af8a1a",
   "metadata": {},
   "outputs": [
    {
     "data": {
      "text/plain": [
       "2"
      ]
     },
     "execution_count": 11,
     "metadata": {},
     "output_type": "execute_result"
    }
   ],
   "source": [
    "# Can reference a variable multiple times\n",
    "# Returns 2\n",
    "a + a"
   ]
  },
  {
   "cell_type": "markdown",
   "id": "2e30c839",
   "metadata": {},
   "source": [
    "## Built-in Functions\n",
    "\n",
    "Some of the most common functions are:\n",
    "- **print:** returns value or description of object\n",
    "- **type:** returns the datatype of the object\n",
    "- **any:** checks if any passed objects evaluate to `True`\n",
    "- **all:** checks if all passed objects evaluate to `True`\n",
    "- **help:** returns documentation of passed object\n",
    "- **isinstance:** returns `True` if type of arg1 matches arg2\n",
    "- **len:** returns the length of an object"
   ]
  },
  {
   "cell_type": "code",
   "execution_count": 12,
   "id": "7745224b",
   "metadata": {},
   "outputs": [
    {
     "name": "stdout",
     "output_type": "stream",
     "text": [
      "1\n"
     ]
    }
   ],
   "source": [
    "# Print returns the representation of the variable\n",
    "# For simple datatypes such as numbers and strings, the result is as expected\n",
    "# For more complex datatypes, such as dataframes, print may return a description of the object type\n",
    "print(a)"
   ]
  },
  {
   "cell_type": "code",
   "execution_count": null,
   "id": "06a3bf0b",
   "metadata": {},
   "outputs": [],
   "source": [
    "# Type returns the variable type"
   ]
  },
  {
   "cell_type": "code",
   "execution_count": null,
   "id": "477afa42",
   "metadata": {},
   "outputs": [],
   "source": []
  },
  {
   "cell_type": "markdown",
   "id": "a4ad87aa",
   "metadata": {},
   "source": []
  },
  {
   "cell_type": "markdown",
   "id": "bbdf2511",
   "metadata": {},
   "source": [
    "## Math"
   ]
  },
  {
   "cell_type": "code",
   "execution_count": 1,
   "id": "52256c31",
   "metadata": {},
   "outputs": [
    {
     "data": {
      "text/plain": [
       "12"
      ]
     },
     "execution_count": 1,
     "metadata": {},
     "output_type": "execute_result"
    }
   ],
   "source": [
    "# Basic addition example\n",
    "6+6"
   ]
  },
  {
   "cell_type": "code",
   "execution_count": 2,
   "id": "a90e27c6",
   "metadata": {},
   "outputs": [
    {
     "data": {
      "text/plain": [
       "0"
      ]
     },
     "execution_count": 2,
     "metadata": {},
     "output_type": "execute_result"
    }
   ],
   "source": [
    "# Basic subtraction example\n",
    "6-6"
   ]
  },
  {
   "cell_type": "code",
   "execution_count": 3,
   "id": "334e1664",
   "metadata": {},
   "outputs": [
    {
     "data": {
      "text/plain": [
       "36"
      ]
     },
     "execution_count": 3,
     "metadata": {},
     "output_type": "execute_result"
    }
   ],
   "source": [
    "# Basic multiplication example\n",
    "6*6"
   ]
  },
  {
   "cell_type": "code",
   "execution_count": 4,
   "id": "31e6a483",
   "metadata": {},
   "outputs": [
    {
     "data": {
      "text/plain": [
       "46656"
      ]
     },
     "execution_count": 4,
     "metadata": {},
     "output_type": "execute_result"
    }
   ],
   "source": [
    "# Basic exponent example\n",
    "6**6"
   ]
  },
  {
   "cell_type": "code",
   "execution_count": 5,
   "id": "c2d84e93",
   "metadata": {},
   "outputs": [
    {
     "data": {
      "text/plain": [
       "0.5"
      ]
     },
     "execution_count": 5,
     "metadata": {},
     "output_type": "execute_result"
    }
   ],
   "source": [
    "# Basic division example\n",
    "3/6"
   ]
  },
  {
   "cell_type": "markdown",
   "id": "7806af91",
   "metadata": {},
   "source": [
    "## String Manipulation"
   ]
  },
  {
   "cell_type": "code",
   "execution_count": 6,
   "id": "542534d4",
   "metadata": {},
   "outputs": [
    {
     "data": {
      "text/plain": [
       "'This is a string!'"
      ]
     },
     "execution_count": 6,
     "metadata": {},
     "output_type": "execute_result"
    }
   ],
   "source": [
    "# Create a string\n",
    "\"This is a string!\""
   ]
  },
  {
   "cell_type": "code",
   "execution_count": 7,
   "id": "87128b2f",
   "metadata": {},
   "outputs": [],
   "source": [
    "# Assign a string to a variable\n",
    "my_str = \"This is a string!\""
   ]
  },
  {
   "cell_type": "code",
   "execution_count": 8,
   "id": "3d6a1b10",
   "metadata": {},
   "outputs": [
    {
     "data": {
      "text/plain": [
       "'T'"
      ]
     },
     "execution_count": 8,
     "metadata": {},
     "output_type": "execute_result"
    }
   ],
   "source": [
    "# String indexing starts at 0 in Python\n",
    "my_str[0]"
   ]
  },
  {
   "cell_type": "code",
   "execution_count": 9,
   "id": "47119cae",
   "metadata": {},
   "outputs": [
    {
     "data": {
      "text/plain": [
       "'string'"
      ]
     },
     "execution_count": 9,
     "metadata": {},
     "output_type": "execute_result"
    }
   ],
   "source": [
    "# Ranges can be selected with a :\n",
    "my_str[10:16]"
   ]
  },
  {
   "cell_type": "code",
   "execution_count": 10,
   "id": "e12af3cf",
   "metadata": {},
   "outputs": [
    {
     "data": {
      "text/plain": [
       "'srn'"
      ]
     },
     "execution_count": 10,
     "metadata": {},
     "output_type": "execute_result"
    }
   ],
   "source": [
    "# A step can also be specified\n",
    "my_str[10:16:2]"
   ]
  },
  {
   "cell_type": "code",
   "execution_count": 11,
   "id": "0ccd9e28",
   "metadata": {},
   "outputs": [
    {
     "data": {
      "text/plain": [
       "'This is a string! It lives in Python!'"
      ]
     },
     "execution_count": 11,
     "metadata": {},
     "output_type": "execute_result"
    }
   ],
   "source": [
    "# Strings can be concated\n",
    "another_str = ' It lives in Python!'\n",
    "my_str + another_str"
   ]
  },
  {
   "cell_type": "markdown",
   "id": "fba317f7",
   "metadata": {},
   "source": [
    "## Lists"
   ]
  },
  {
   "cell_type": "code",
   "execution_count": 12,
   "id": "0b517480",
   "metadata": {},
   "outputs": [],
   "source": [
    "# Lists can contain multiple data types (including more lists!)\n",
    "my_list = [1, 'something', 3, [42, 27]]"
   ]
  },
  {
   "cell_type": "code",
   "execution_count": 13,
   "id": "2a8dd1fc",
   "metadata": {},
   "outputs": [
    {
     "data": {
      "text/plain": [
       "[1, 'something', 3, [42, 27]]"
      ]
     },
     "execution_count": 13,
     "metadata": {},
     "output_type": "execute_result"
    }
   ],
   "source": [
    "# Show the list\n",
    "my_list"
   ]
  },
  {
   "cell_type": "code",
   "execution_count": 14,
   "id": "43f30107",
   "metadata": {},
   "outputs": [
    {
     "data": {
      "text/plain": [
       "[42, 27]"
      ]
     },
     "execution_count": 14,
     "metadata": {},
     "output_type": "execute_result"
    }
   ],
   "source": [
    "# Index the list\n",
    "my_list[3]"
   ]
  },
  {
   "cell_type": "code",
   "execution_count": 15,
   "id": "b4122ade",
   "metadata": {},
   "outputs": [
    {
     "name": "stdout",
     "output_type": "stream",
     "text": [
      "1\n",
      "something\n",
      "3\n",
      "[42, 27]\n"
     ]
    }
   ],
   "source": [
    "# Iterate over the list\n",
    "for x in my_list:\n",
    "    print(x)"
   ]
  },
  {
   "cell_type": "markdown",
   "id": "82729890",
   "metadata": {},
   "source": [
    "## Dictionaries\n",
    "\n",
    "Consist of key-value pairs"
   ]
  },
  {
   "cell_type": "code",
   "execution_count": 16,
   "id": "df951e90",
   "metadata": {},
   "outputs": [],
   "source": [
    "# Create a dictionary\n",
    "my_dict = {\"Value_1\": 1, \"Value_2\":2}"
   ]
  },
  {
   "cell_type": "code",
   "execution_count": 17,
   "id": "b240e96e",
   "metadata": {},
   "outputs": [
    {
     "data": {
      "text/plain": [
       "{'Value_1': 1, 'Value_2': 2}"
      ]
     },
     "execution_count": 17,
     "metadata": {},
     "output_type": "execute_result"
    }
   ],
   "source": [
    "# show dictionary\n",
    "my_dict"
   ]
  },
  {
   "cell_type": "code",
   "execution_count": 18,
   "id": "24de4672",
   "metadata": {},
   "outputs": [
    {
     "data": {
      "text/plain": [
       "1"
      ]
     },
     "execution_count": 18,
     "metadata": {},
     "output_type": "execute_result"
    }
   ],
   "source": [
    "# Access a value using a key\n",
    "my_dict['Value_1']"
   ]
  },
  {
   "cell_type": "code",
   "execution_count": 19,
   "id": "dd658d49",
   "metadata": {},
   "outputs": [
    {
     "name": "stdout",
     "output_type": "stream",
     "text": [
      "Value_1\n",
      "1\n",
      "Value_2\n",
      "2\n"
     ]
    }
   ],
   "source": [
    "# Iterate over a dictionary\n",
    "for key, value in my_dict.items():\n",
    "    print(key)\n",
    "    print(value)"
   ]
  },
  {
   "cell_type": "markdown",
   "id": "6574e7a4",
   "metadata": {},
   "source": [
    "## Booleans\n",
    "\n",
    "True/False"
   ]
  },
  {
   "cell_type": "code",
   "execution_count": 20,
   "id": "d60753e0",
   "metadata": {},
   "outputs": [],
   "source": [
    "# Assign two vars-one true, one false\n",
    "my_bool = True\n",
    "my_other_bool = False"
   ]
  },
  {
   "cell_type": "code",
   "execution_count": 21,
   "id": "0c5a6216",
   "metadata": {},
   "outputs": [
    {
     "data": {
      "text/plain": [
       "True"
      ]
     },
     "execution_count": 21,
     "metadata": {},
     "output_type": "execute_result"
    }
   ],
   "source": [
    "# Show value\n",
    "my_bool"
   ]
  },
  {
   "cell_type": "code",
   "execution_count": 22,
   "id": "ec3849b8",
   "metadata": {},
   "outputs": [
    {
     "data": {
      "text/plain": [
       "False"
      ]
     },
     "execution_count": 22,
     "metadata": {},
     "output_type": "execute_result"
    }
   ],
   "source": [
    "# Show value\n",
    "my_other_bool"
   ]
  },
  {
   "cell_type": "code",
   "execution_count": 23,
   "id": "cea298ad",
   "metadata": {},
   "outputs": [
    {
     "data": {
      "text/plain": [
       "False"
      ]
     },
     "execution_count": 23,
     "metadata": {},
     "output_type": "execute_result"
    }
   ],
   "source": [
    "# Note bools are special values and not just strings\n",
    "my_bool=='True'"
   ]
  },
  {
   "cell_type": "markdown",
   "id": "d9699466",
   "metadata": {},
   "source": [
    "## Comparisons and evaluation\n",
    "\n",
    "= is used to assign values, == is used to compare values"
   ]
  },
  {
   "cell_type": "code",
   "execution_count": 24,
   "id": "aaaf71a5",
   "metadata": {},
   "outputs": [
    {
     "data": {
      "text/plain": [
       "True"
      ]
     },
     "execution_count": 24,
     "metadata": {},
     "output_type": "execute_result"
    }
   ],
   "source": [
    "# Evaluate if my_bool is equal to True\n",
    "my_bool == True"
   ]
  },
  {
   "cell_type": "code",
   "execution_count": 25,
   "id": "28888033",
   "metadata": {},
   "outputs": [
    {
     "data": {
      "text/plain": [
       "False"
      ]
     },
     "execution_count": 25,
     "metadata": {},
     "output_type": "execute_result"
    }
   ],
   "source": [
    "# Evaluate if my_other_bool is equal to True\n",
    "my_other_bool == True"
   ]
  },
  {
   "cell_type": "code",
   "execution_count": 26,
   "id": "5383dd39",
   "metadata": {},
   "outputs": [
    {
     "data": {
      "text/plain": [
       "True"
      ]
     },
     "execution_count": 26,
     "metadata": {},
     "output_type": "execute_result"
    }
   ],
   "source": [
    "# Check if s in my_str\n",
    "'s' in my_str"
   ]
  },
  {
   "cell_type": "code",
   "execution_count": 27,
   "id": "d8498927",
   "metadata": {},
   "outputs": [
    {
     "data": {
      "text/plain": [
       "False"
      ]
     },
     "execution_count": 27,
     "metadata": {},
     "output_type": "execute_result"
    }
   ],
   "source": [
    "# Check if x in my_str\n",
    "'x' in my_str"
   ]
  },
  {
   "cell_type": "code",
   "execution_count": 28,
   "id": "1f55ec80",
   "metadata": {},
   "outputs": [
    {
     "data": {
      "text/plain": [
       "True"
      ]
     },
     "execution_count": 28,
     "metadata": {},
     "output_type": "execute_result"
    }
   ],
   "source": [
    "# Use in to check if a list contains an element\n",
    "'something' in my_list"
   ]
  },
  {
   "cell_type": "code",
   "execution_count": 29,
   "id": "b5dbc11f",
   "metadata": {},
   "outputs": [
    {
     "data": {
      "text/plain": [
       "False"
      ]
     },
     "execution_count": 29,
     "metadata": {},
     "output_type": "execute_result"
    }
   ],
   "source": [
    "# Use in to check if a list contains an element\n",
    "'something else' in my_list"
   ]
  },
  {
   "cell_type": "code",
   "execution_count": null,
   "id": "7b30e752",
   "metadata": {},
   "outputs": [],
   "source": []
  }
 ],
 "metadata": {
  "kernelspec": {
   "display_name": "Python 3 (ipykernel)",
   "language": "python",
   "name": "python3"
  },
  "language_info": {
   "codemirror_mode": {
    "name": "ipython",
    "version": 3
   },
   "file_extension": ".py",
   "mimetype": "text/x-python",
   "name": "python",
   "nbconvert_exporter": "python",
   "pygments_lexer": "ipython3",
   "version": "3.11.7"
  }
 },
 "nbformat": 4,
 "nbformat_minor": 5
}
