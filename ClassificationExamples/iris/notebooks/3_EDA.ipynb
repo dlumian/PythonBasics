{
 "cells": [
  {
   "cell_type": "markdown",
   "id": "76a722b5",
   "metadata": {},
   "source": [
    "# SKLEARN IRIS DATA\n",
    "## EDA Notebook"
   ]
  },
  {
   "cell_type": "markdown",
   "id": "f68a50f9",
   "metadata": {},
   "source": [
    "This notebook uses the training data to conduct exploratory data analysis (EDA)."
   ]
  },
  {
   "cell_type": "code",
   "execution_count": null,
   "id": "27a8ac9f",
   "metadata": {},
   "outputs": [],
   "source": [
    "import os\n",
    "import pandas as pd\n",
    "import seaborn as sns"
   ]
  },
  {
   "cell_type": "code",
   "execution_count": null,
   "id": "a6d42187",
   "metadata": {},
   "outputs": [],
   "source": [
    "data_path = os.path.join('..', 'data')"
   ]
  },
  {
   "cell_type": "code",
   "execution_count": null,
   "id": "e6ef36a1",
   "metadata": {},
   "outputs": [],
   "source": [
    "X_train_data_path = os.path.join(data_path, 'X_train.csv')"
   ]
  },
  {
   "cell_type": "code",
   "execution_count": null,
   "id": "087f8524",
   "metadata": {},
   "outputs": [],
   "source": [
    "y_train_data_path = os.path.join(data_path, 'y_train.csv')"
   ]
  },
  {
   "cell_type": "code",
   "execution_count": null,
   "id": "89fae544",
   "metadata": {},
   "outputs": [],
   "source": [
    "X_train = pd.read_csv(X_train_data_path)\n",
    "y_train = pd.read_csv(y_train_data_path)"
   ]
  },
  {
   "cell_type": "code",
   "execution_count": null,
   "id": "2fe916d3",
   "metadata": {},
   "outputs": [],
   "source": [
    "df = pd.concat([X_train, y_train], axis=1)"
   ]
  },
  {
   "cell_type": "code",
   "execution_count": null,
   "id": "be71fb7d",
   "metadata": {},
   "outputs": [],
   "source": [
    "sns.pairplot(df)"
   ]
  },
  {
   "cell_type": "code",
   "execution_count": null,
   "id": "2be632e1",
   "metadata": {},
   "outputs": [],
   "source": [
    "def df_describe(df, columns=None):\n",
    "    cols = columns or df.columns\n",
    "    for col in cols:\n",
    "        print(f'Column name: {col}')\n",
    "        print('\\n')\n",
    "        print(f'Column unique values: \\n{df[col].nunique()}')\n",
    "        print('\\n')  \n",
    "        print(f'Column values: \\n{df[col].value_counts()}')\n",
    "        print('\\n')  "
   ]
  },
  {
   "cell_type": "code",
   "execution_count": null,
   "id": "b3a0c209",
   "metadata": {},
   "outputs": [],
   "source": [
    "df_describe(df)"
   ]
  }
 ],
 "metadata": {
  "kernelspec": {
   "display_name": "Python 3 (ipykernel)",
   "language": "python",
   "name": "python3"
  },
  "language_info": {
   "codemirror_mode": {
    "name": "ipython",
    "version": 3
   },
   "file_extension": ".py",
   "mimetype": "text/x-python",
   "name": "python",
   "nbconvert_exporter": "python",
   "pygments_lexer": "ipython3",
   "version": "3.12.3"
  }
 },
 "nbformat": 4,
 "nbformat_minor": 5
}
