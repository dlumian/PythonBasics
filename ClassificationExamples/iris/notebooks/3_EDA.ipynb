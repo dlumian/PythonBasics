{
 "cells": [
  {
   "cell_type": "markdown",
   "id": "76a722b5",
   "metadata": {},
   "source": [
    "# Iris Classification"
   ]
  },
  {
   "cell_type": "markdown",
   "id": "8d499d22-07dc-4b94-b601-e4b56b091906",
   "metadata": {},
   "source": [
    "## EDA Notebook"
   ]
  },
  {
   "cell_type": "markdown",
   "id": "f68a50f9",
   "metadata": {},
   "source": [
    "This notebook uses the training data to conduct exploratory data analysis (EDA).\n",
    "\n",
    "Data will be loaded and merged. Mapping will match target values to species labels.\n",
    "\n",
    "Both summary stats and visualization offer insight into patterns and relationships.\n",
    "\n",
    "Some steps shown here are for example only given the cleanliness of the data (e.g., no missing data).\n",
    "\n",
    "**NOTE:** EDA is done on training data as that is the data the model will be built with. Inaccurate assumptions or associations may arise if test data is not withheld. "
   ]
  },
  {
   "cell_type": "code",
   "execution_count": null,
   "id": "27a8ac9f",
   "metadata": {},
   "outputs": [],
   "source": [
    "import os\n",
    "import pandas as pd\n",
    "import seaborn as sns\n",
    "import plotly.express as px\n",
    "from skimpy import skim_get_figure"
   ]
  },
  {
   "cell_type": "code",
   "execution_count": null,
   "id": "a6d42187",
   "metadata": {},
   "outputs": [],
   "source": [
    "# Set data path\n",
    "data_path = os.path.join('..', 'data')\n",
    "# Set img path\n",
    "img_path = os.path.join('..', 'imgs')\n",
    "# Create img dir if not there\n",
    "os.makedirs(img_path, exist_ok=True)"
   ]
  },
  {
   "cell_type": "code",
   "execution_count": null,
   "id": "e6ef36a1",
   "metadata": {},
   "outputs": [],
   "source": [
    "# Create X and y file paths\n",
    "X_train_data_path = os.path.join(data_path, 'X_train.csv')\n",
    "y_train_data_path = os.path.join(data_path, 'y_train.csv')"
   ]
  },
  {
   "cell_type": "code",
   "execution_count": null,
   "id": "89fae544",
   "metadata": {},
   "outputs": [],
   "source": [
    "# Read in data\n",
    "X_train = pd.read_csv(X_train_data_path)\n",
    "y_train = pd.read_csv(y_train_data_path)"
   ]
  },
  {
   "cell_type": "code",
   "execution_count": null,
   "id": "2fe916d3",
   "metadata": {},
   "outputs": [],
   "source": [
    "# Combine X and y so labels can be used\n",
    "df = pd.concat([X_train, y_train], axis=1)"
   ]
  },
  {
   "cell_type": "code",
   "execution_count": null,
   "id": "f8fabad0-341f-4691-a673-439b1a2b1814",
   "metadata": {},
   "outputs": [],
   "source": [
    "# Create dictionary mapping target values to actual species names\n",
    "target_mapping = {\n",
    "    0: 'setosa',\n",
    "    1: 'versicolor',\n",
    "    2: 'virginica'\n",
    "}\n",
    "# Create new column where value comes from target_mapping dict based on target value\n",
    "df['species'] = df['target'].map(target_mapping)\n",
    "# Check species values and counts\n",
    "df.species.value_counts()"
   ]
  },
  {
   "cell_type": "markdown",
   "id": "38525649-a392-42b9-b40c-bc44115f33e1",
   "metadata": {},
   "source": [
    "## Summary Statistics\n",
    "\n",
    "- Pandas methods:\n",
    "    - [info](https://pandas.pydata.org/docs/reference/api/pandas.DataFrame.info.html)\n",
    "    - [describe](https://pandas.pydata.org/docs/reference/api/pandas.DataFrame.describe.html)\n",
    "- Skim report"
   ]
  },
  {
   "cell_type": "code",
   "execution_count": null,
   "id": "08c92d62-21c1-46bf-b2f0-6eb4dacbc7bf",
   "metadata": {},
   "outputs": [],
   "source": [
    "# Built-in pandas function, returns None\n",
    "df.info()"
   ]
  },
  {
   "cell_type": "code",
   "execution_count": null,
   "id": "dc992648-d65d-47f3-9c38-3eb254281ef6",
   "metadata": {},
   "outputs": [],
   "source": [
    "# Built-in pandas function, returns df\n",
    "df_desc = df.describe()\n",
    "df_desc"
   ]
  },
  {
   "cell_type": "code",
   "execution_count": null,
   "id": "053801d8-ac90-4dc5-8e7a-66e06d976d9b",
   "metadata": {},
   "outputs": [],
   "source": [
    "# Set save path and generate skim report\n",
    "skim_img_path = os.path.join(img_path, 'skim_summary.svg')\n",
    "skim_get_figure(df, save_path=skim_img_path)"
   ]
  },
  {
   "cell_type": "markdown",
   "id": "94dd08a6-be8b-4e4c-ac57-2d4a20889bd8",
   "metadata": {},
   "source": [
    "## Visualizations"
   ]
  },
  {
   "cell_type": "code",
   "execution_count": null,
   "id": "66a03644-07bc-4538-b3b1-c42bb62a62dd",
   "metadata": {},
   "outputs": [],
   "source": [
    "df.columns"
   ]
  },
  {
   "cell_type": "code",
   "execution_count": null,
   "id": "7b0528ec-3eab-47e4-9c80-02b3009cc53a",
   "metadata": {},
   "outputs": [],
   "source": [
    "feat_cols = ['sepal length (cm)', 'sepal width (cm)', 'petal length (cm)', 'petal width (cm)']"
   ]
  },
  {
   "cell_type": "code",
   "execution_count": null,
   "id": "e93aedfd-6dc6-4ca8-bd69-1eaa6b35d082",
   "metadata": {},
   "outputs": [],
   "source": [
    "df_grouped=df.groupby('species')[feat_cols].mean()\n",
    "df_grouped"
   ]
  },
  {
   "cell_type": "code",
   "execution_count": null,
   "id": "a53966b1-1fcd-4181-b88b-cfbedb8a9fd9",
   "metadata": {},
   "outputs": [],
   "source": [
    "test = df_grouped.reset_index(drop=False, names=['species'])\n",
    "test"
   ]
  },
  {
   "cell_type": "code",
   "execution_count": null,
   "id": "92551e12-0c83-4866-b9d5-6b97e962f88e",
   "metadata": {},
   "outputs": [],
   "source": [
    "def apply_default_plotly_styling(fig, title, xaxis_title=None, \n",
    "                          yaxis_title=None, legend_title=None):\n",
    "    \"\"\" Function to update layout with consistent styling and flexible parameters\n",
    "\n",
    "    Args:\n",
    "        fig (plotly.graph_objects.Figure): Figure for formatting\n",
    "        title (str): Main title for graph\n",
    "        xaxis_title (str): Title for x-axis of graph\n",
    "        yaxis_title (str): Title for y-axis of graph\n",
    "\n",
    "    Returns:\n",
    "        plotly.graph_objects.Figure: Plotly figure with updated formatting\n",
    "    \"\"\"    \n",
    "    # Update layout for title and fonts\n",
    "    fig.update_layout(\n",
    "        title={\n",
    "            'text': title,\n",
    "            'y': 0.95,\n",
    "            'x': 0.5,\n",
    "            'xanchor': 'center',\n",
    "            'yanchor': 'top'\n",
    "        },\n",
    "        font=dict(\n",
    "            family=\"Arial, sans-serif\",\n",
    "            size=14,\n",
    "            color=\"black\"\n",
    "        ),\n",
    "        title_font=dict(size=24)\n",
    "    )\n",
    "\n",
    "    if xaxis_title is not None:\n",
    "        fig.update_layout( xaxis_title=xaxis_title)\n",
    "\n",
    "    if yaxis_title is not None:\n",
    "        fig.update_layout(yaxis_title=yaxis_title)\n",
    "\n",
    "    if legend_title is not None:\n",
    "        fig.update_layout(legend_title_text=legend_title)\n",
    "    \n",
    "    return fig"
   ]
  },
  {
   "cell_type": "code",
   "execution_count": null,
   "id": "6ed071b7-bfd8-4cab-af86-95403ebf4e64",
   "metadata": {},
   "outputs": [],
   "source": [
    "fig = px.bar(test, x=\"species\", y=feat_cols, barmode='group',\n",
    "            color_discrete_sequence=px.colors.qualitative.Bold)\n",
    "\n",
    "fig = apply_default_plotly_styling(fig, title=\"Average by Species\", xaxis_title=\"Species\", yaxis_title=\"Average\", legend_title=\"Measurement\")\n",
    "\n",
    "fig.show()\n",
    "bar_path = os.path.join(img_path, 'Iris_Average_Features_by_Species.png')\n",
    "fig.write_image(bar_path)"
   ]
  },
  {
   "cell_type": "code",
   "execution_count": null,
   "id": "1b1cdd1b-d85b-46e1-b69e-f15215a38977",
   "metadata": {},
   "outputs": [],
   "source": []
  }
 ],
 "metadata": {
  "kernelspec": {
   "display_name": "Python 3 (ipykernel)",
   "language": "python",
   "name": "python3"
  },
  "language_info": {
   "codemirror_mode": {
    "name": "ipython",
    "version": 3
   },
   "file_extension": ".py",
   "mimetype": "text/x-python",
   "name": "python",
   "nbconvert_exporter": "python",
   "pygments_lexer": "ipython3",
   "version": "3.11.7"
  }
 },
 "nbformat": 4,
 "nbformat_minor": 5
}
