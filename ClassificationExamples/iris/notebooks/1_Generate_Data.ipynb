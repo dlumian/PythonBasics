{
 "cells": [
  {
   "cell_type": "markdown",
   "id": "793d1a1f",
   "metadata": {},
   "source": [
    "# Iris Classification"
   ]
  },
  {
   "cell_type": "markdown",
   "id": "faf9e3f5-7982-4c59-873c-57b72fddf6b4",
   "metadata": {},
   "source": [
    "## Data Generation\n",
    "Loads Iris data from sklearn\n",
    "\n",
    "Convert data to pandas dataframe\n",
    "\n",
    "Create directory for output\n",
    "\n",
    "Save to a csv file"
   ]
  },
  {
   "cell_type": "markdown",
   "id": "0af63163-ac4e-49e9-88d6-f11dbc74694d",
   "metadata": {},
   "source": [
    "## Load Data"
   ]
  },
  {
   "cell_type": "code",
   "execution_count": null,
   "id": "7f389169",
   "metadata": {},
   "outputs": [],
   "source": [
    "import os\n",
    "import pandas as pd\n",
    "from sklearn.datasets import load_iris"
   ]
  },
  {
   "cell_type": "code",
   "execution_count": null,
   "id": "b2193265-6748-44c0-8629-72330b1f6aa0",
   "metadata": {},
   "outputs": [],
   "source": [
    "# Load data\n",
    "data = load_iris()"
   ]
  },
  {
   "cell_type": "code",
   "execution_count": null,
   "id": "47a4d23b-fb84-445c-b7ae-751d99e30fbd",
   "metadata": {},
   "outputs": [],
   "source": [
    "# Data is stored in sklearn Bunch object\n",
    "type(data)"
   ]
  },
  {
   "cell_type": "code",
   "execution_count": null,
   "id": "a3bb1029-6e64-426a-ba9b-0c46a994005c",
   "metadata": {},
   "outputs": [],
   "source": [
    "# data has a number of items stored in it\n",
    "# By calling on its keys, the contained info can be accessed\n",
    "data.keys()"
   ]
  },
  {
   "cell_type": "markdown",
   "id": "41a729ba-3b2d-420b-a4a7-aceef2fa8001",
   "metadata": {},
   "source": [
    "## Explore Bunch Data\n",
    "\n",
    "We'll focus on 3 features of data:\n",
    "- data: numpy array of numerical values (150 rows, 4 cols)\n",
    "- target: numpy array of numerical values indicating each row's class\n",
    "- feature_names: list of 4 col names\n",
    "\n",
    "**NOTE:** `.` notation is common in Python, so `data['target']` is equivalent here to `data.target`"
   ]
  },
  {
   "cell_type": "code",
   "execution_count": null,
   "id": "c590a45d-48d1-4cc1-8b0e-4bccdb597098",
   "metadata": {},
   "outputs": [],
   "source": [
    "# Explore data feature\n",
    "print(type(data['data']))\n",
    "print(data['data'].shape)"
   ]
  },
  {
   "cell_type": "code",
   "execution_count": null,
   "id": "021be32f-a36b-4462-81b4-c4c18980588b",
   "metadata": {},
   "outputs": [],
   "source": [
    "### # Show data array, optional as array is rather large to display here\n",
    "# data['data']"
   ]
  },
  {
   "cell_type": "code",
   "execution_count": null,
   "id": "d235ecfc-93ab-4442-88ce-92e9798a96b3",
   "metadata": {},
   "outputs": [],
   "source": [
    "# Show target values\n",
    "data.target"
   ]
  },
  {
   "cell_type": "code",
   "execution_count": null,
   "id": "b4c1af9f-c3c7-4398-a5b3-d10aaa5e5d32",
   "metadata": {},
   "outputs": [],
   "source": [
    "# Check target labels\n",
    "data.target_names"
   ]
  },
  {
   "cell_type": "code",
   "execution_count": null,
   "id": "1951afcf-ec27-455d-996b-69bb62409e22",
   "metadata": {},
   "outputs": [],
   "source": [
    "# List col names\n",
    "data.feature_names"
   ]
  },
  {
   "cell_type": "markdown",
   "id": "97e11946-20ee-4ce9-b3e8-893210d4c5f9",
   "metadata": {},
   "source": [
    "## Convert to Pandas df\n",
    "\n",
    "Pandas dfs are one of the most common ways to store, process, and analyze data.\n",
    "\n",
    "This section converts parts of the bunch object into a df."
   ]
  },
  {
   "cell_type": "code",
   "execution_count": null,
   "id": "68ff3a10",
   "metadata": {},
   "outputs": [],
   "source": [
    "# Convert data to pandas dataframe\n",
    "# data is the numpy array, columns is list of col names\n",
    "df = pd.DataFrame(data=data.data, columns=data.feature_names)\n",
    "# Add column with target (iris classification)\n",
    "df[\"target\"] = data.target"
   ]
  },
  {
   "cell_type": "code",
   "execution_count": null,
   "id": "026eef47-40f0-4cec-8ab5-fb2cf32084ee",
   "metadata": {},
   "outputs": [],
   "source": [
    "# Calling head on the df shows that top rows of that dataframe\n",
    "df.head()"
   ]
  },
  {
   "cell_type": "code",
   "execution_count": null,
   "id": "c2d46eb0-aa08-43bf-bfb0-617370101039",
   "metadata": {},
   "outputs": [],
   "source": [
    "# shape returns the number of rows and columns\n",
    "df.shape"
   ]
  },
  {
   "cell_type": "code",
   "execution_count": null,
   "id": "598c61b4-8f58-4712-a0d8-e74fbff3d847",
   "metadata": {},
   "outputs": [],
   "source": [
    "# Check target values and counts\n",
    "df.target.value_counts()"
   ]
  },
  {
   "cell_type": "code",
   "execution_count": null,
   "id": "c18df922",
   "metadata": {},
   "outputs": [],
   "source": [
    "# Check updated df\n",
    "df.head()"
   ]
  },
  {
   "cell_type": "markdown",
   "id": "7769ef1f-fdc0-4f37-b509-b25e64887626",
   "metadata": {},
   "source": [
    "## Save df to csv file\n",
    "\n",
    "Creates a data directory and saves df as csv to it"
   ]
  },
  {
   "cell_type": "code",
   "execution_count": null,
   "id": "a46f9d63",
   "metadata": {},
   "outputs": [],
   "source": [
    "# check current location\n",
    "os.getcwd()"
   ]
  },
  {
   "cell_type": "code",
   "execution_count": null,
   "id": "5e18d8e1",
   "metadata": {},
   "outputs": [],
   "source": [
    "# Create path up one dir, called data\n",
    "data_path = os.path.join('..', 'data')\n",
    "print(data_path)"
   ]
  },
  {
   "cell_type": "code",
   "execution_count": null,
   "id": "b14f59de",
   "metadata": {},
   "outputs": [],
   "source": [
    "# Create dir if not already there\n",
    "os.makedirs(data_path, exist_ok=True)"
   ]
  },
  {
   "cell_type": "code",
   "execution_count": null,
   "id": "071cf924",
   "metadata": {},
   "outputs": [],
   "source": [
    "# Add file name to path\n",
    "data_file_path = os.path.join(data_path, 'data.csv')\n",
    "print(data_file_path)"
   ]
  },
  {
   "cell_type": "code",
   "execution_count": null,
   "id": "9e121162",
   "metadata": {},
   "outputs": [],
   "source": [
    "# Save df to path\n",
    "df.to_csv(data_file_path, index=False)"
   ]
  }
 ],
 "metadata": {
  "kernelspec": {
   "display_name": "Python 3 (ipykernel)",
   "language": "python",
   "name": "python3"
  },
  "language_info": {
   "codemirror_mode": {
    "name": "ipython",
    "version": 3
   },
   "file_extension": ".py",
   "mimetype": "text/x-python",
   "name": "python",
   "nbconvert_exporter": "python",
   "pygments_lexer": "ipython3",
   "version": "3.12.3"
  }
 },
 "nbformat": 4,
 "nbformat_minor": 5
}
