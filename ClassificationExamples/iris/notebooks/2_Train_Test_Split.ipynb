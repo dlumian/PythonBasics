{
 "cells": [
  {
   "cell_type": "markdown",
   "id": "9b339ffc",
   "metadata": {},
   "source": [
    "# Iris Classification"
   ]
  },
  {
   "cell_type": "markdown",
   "id": "f57677be-d808-4d3d-9250-d8c120b377e3",
   "metadata": {},
   "source": [
    "## Train-Test Split\n",
    "\n",
    "This notebook will use the data generated from the previous notebook and create a train-test split of the data.\n",
    "\n",
    "The split data will be saved to csv files in the data folder.\n",
    "\n",
    "Best practice is to run analysis only on training data to avoid data leakage. Failure to do so can result in overfit and less-generalizable models."
   ]
  },
  {
   "cell_type": "code",
   "execution_count": null,
   "id": "5e27be2e",
   "metadata": {},
   "outputs": [],
   "source": [
    "import os \n",
    "import pandas as pd\n",
    "from sklearn.model_selection import train_test_split"
   ]
  },
  {
   "cell_type": "code",
   "execution_count": null,
   "id": "4b34bba7",
   "metadata": {},
   "outputs": [],
   "source": [
    "# Check location to ensure we load data from the correct path\n",
    "os.getcwd()"
   ]
  },
  {
   "cell_type": "code",
   "execution_count": null,
   "id": "73e21a56",
   "metadata": {},
   "outputs": [],
   "source": [
    "# Define path to input file\n",
    "data_file_path = os.path.join('..', 'data', 'data.csv')"
   ]
  },
  {
   "cell_type": "code",
   "execution_count": null,
   "id": "0836afac",
   "metadata": {},
   "outputs": [],
   "source": [
    "# Load csv into pandas df\n",
    "df = pd.read_csv(data_file_path)"
   ]
  },
  {
   "cell_type": "code",
   "execution_count": null,
   "id": "123e025f",
   "metadata": {},
   "outputs": [],
   "source": [
    "# Check df looks correct\n",
    "df.head()"
   ]
  },
  {
   "cell_type": "code",
   "execution_count": null,
   "id": "316c2cb2",
   "metadata": {},
   "outputs": [],
   "source": [
    "# Verify data shape\n",
    "df.shape"
   ]
  },
  {
   "cell_type": "code",
   "execution_count": null,
   "id": "db0f7463",
   "metadata": {},
   "outputs": [],
   "source": [
    "# y is targets only\n",
    "# x is feature columns without target\n",
    "# NOTE: y is lower, X is upper\n",
    "y = df['target']\n",
    "X = df.drop(columns=['target'])"
   ]
  },
  {
   "cell_type": "code",
   "execution_count": null,
   "id": "6576bf28",
   "metadata": {},
   "outputs": [],
   "source": [
    "# Check X\n",
    "X.head()"
   ]
  },
  {
   "cell_type": "code",
   "execution_count": null,
   "id": "9a12ba9a",
   "metadata": {},
   "outputs": [],
   "source": [
    "# Check y\n",
    "y.head()"
   ]
  },
  {
   "cell_type": "code",
   "execution_count": null,
   "id": "4035d9bf",
   "metadata": {},
   "outputs": [],
   "source": [
    "# Print shapes to ensure matching dimension\n",
    "print(X.shape, y.shape, sep='\\n')"
   ]
  },
  {
   "cell_type": "code",
   "execution_count": null,
   "id": "7aad83f1",
   "metadata": {},
   "outputs": [],
   "source": [
    "# Perform split\n",
    "X_train, X_test, y_train, y_test = train_test_split(X, y, test_size=0.33, random_state=42, stratify=y)"
   ]
  },
  {
   "cell_type": "code",
   "execution_count": null,
   "id": "35484dfc",
   "metadata": {},
   "outputs": [],
   "source": [
    "# Create list of dfs and output names\n",
    "dfs = [X_train, X_test, y_train, y_test]\n",
    "csv_names = ['X_train.csv', 'X_test.csv', 'y_train.csv', 'y_test.csv']"
   ]
  },
  {
   "cell_type": "code",
   "execution_count": null,
   "id": "f62b280d",
   "metadata": {},
   "outputs": [],
   "source": [
    "# Iterate over lists, saving each df to matching path\n",
    "data_path = os.path.join('..', 'data')\n",
    "for df, name in zip(dfs, csv_names):\n",
    "    out_path = os.path.join(data_path, name)\n",
    "    df.to_csv(out_path, index=False)"
   ]
  }
 ],
 "metadata": {
  "kernelspec": {
   "display_name": "Python 3 (ipykernel)",
   "language": "python",
   "name": "python3"
  },
  "language_info": {
   "codemirror_mode": {
    "name": "ipython",
    "version": 3
   },
   "file_extension": ".py",
   "mimetype": "text/x-python",
   "name": "python",
   "nbconvert_exporter": "python",
   "pygments_lexer": "ipython3",
   "version": "3.11.7"
  }
 },
 "nbformat": 4,
 "nbformat_minor": 5
}
