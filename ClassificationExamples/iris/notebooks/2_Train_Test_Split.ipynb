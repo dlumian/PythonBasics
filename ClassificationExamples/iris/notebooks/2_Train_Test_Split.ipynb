{
 "cells": [
  {
   "cell_type": "markdown",
   "id": "9b339ffc",
   "metadata": {},
   "source": [
    "# SKLEARN IRIS DATA\n",
    "## Train-test Split Notebook"
   ]
  },
  {
   "cell_type": "markdown",
   "id": "0bc91c51",
   "metadata": {},
   "source": [
    "This notebook will use the data generated from the previous notebook and create a train-test split of the data.\n",
    "\n",
    "The split data will be saved to csv files in the data folder."
   ]
  },
  {
   "cell_type": "code",
   "execution_count": null,
   "id": "5e27be2e",
   "metadata": {},
   "outputs": [],
   "source": [
    "import os \n",
    "import pandas as pd"
   ]
  },
  {
   "cell_type": "code",
   "execution_count": null,
   "id": "4b34bba7",
   "metadata": {},
   "outputs": [],
   "source": [
    "os.getcwd()"
   ]
  },
  {
   "cell_type": "code",
   "execution_count": null,
   "id": "73e21a56",
   "metadata": {},
   "outputs": [],
   "source": [
    "data_file_path = os.path.join('..', 'data', 'data.csv')"
   ]
  },
  {
   "cell_type": "code",
   "execution_count": null,
   "id": "0836afac",
   "metadata": {},
   "outputs": [],
   "source": [
    "df = pd.read_csv(data_file_path)"
   ]
  },
  {
   "cell_type": "code",
   "execution_count": null,
   "id": "123e025f",
   "metadata": {},
   "outputs": [],
   "source": [
    "df.head()"
   ]
  },
  {
   "cell_type": "code",
   "execution_count": null,
   "id": "316c2cb2",
   "metadata": {},
   "outputs": [],
   "source": [
    "df.shape"
   ]
  },
  {
   "cell_type": "code",
   "execution_count": null,
   "id": "fb5e5ed7",
   "metadata": {},
   "outputs": [],
   "source": [
    "from sklearn.model_selection import train_test_split"
   ]
  },
  {
   "cell_type": "code",
   "execution_count": null,
   "id": "db0f7463",
   "metadata": {},
   "outputs": [],
   "source": [
    "y = df['target']\n",
    "X = df.drop(columns=['target'])"
   ]
  },
  {
   "cell_type": "code",
   "execution_count": null,
   "id": "6576bf28",
   "metadata": {},
   "outputs": [],
   "source": [
    "X.head()"
   ]
  },
  {
   "cell_type": "code",
   "execution_count": null,
   "id": "9a12ba9a",
   "metadata": {},
   "outputs": [],
   "source": [
    "y.head()"
   ]
  },
  {
   "cell_type": "code",
   "execution_count": null,
   "id": "4035d9bf",
   "metadata": {},
   "outputs": [],
   "source": [
    "print(X.shape, y.shape, sep='\\n')"
   ]
  },
  {
   "cell_type": "code",
   "execution_count": null,
   "id": "7aad83f1",
   "metadata": {},
   "outputs": [],
   "source": [
    "X_train, X_test, y_train, y_test = train_test_split(X, y, test_size=0.33, random_state=42, stratify=y)"
   ]
  },
  {
   "cell_type": "code",
   "execution_count": null,
   "id": "35484dfc",
   "metadata": {},
   "outputs": [],
   "source": [
    "dfs = [X_train, X_test, y_train, y_test]\n",
    "csv_names = ['X_train.csv', 'X_test.csv', 'y_train.csv', 'y_test.csv']"
   ]
  },
  {
   "cell_type": "code",
   "execution_count": null,
   "id": "f62b280d",
   "metadata": {},
   "outputs": [],
   "source": [
    "data_path = os.path.join('..', 'data')\n",
    "for df, name in zip(dfs, csv_names):\n",
    "    out_path = os.path.join(data_path, name)\n",
    "    df.to_csv(out_path, index=False)"
   ]
  }
 ],
 "metadata": {
  "kernelspec": {
   "display_name": "Python 3 (ipykernel)",
   "language": "python",
   "name": "python3"
  },
  "language_info": {
   "codemirror_mode": {
    "name": "ipython",
    "version": 3
   },
   "file_extension": ".py",
   "mimetype": "text/x-python",
   "name": "python",
   "nbconvert_exporter": "python",
   "pygments_lexer": "ipython3",
   "version": "3.12.3"
  }
 },
 "nbformat": 4,
 "nbformat_minor": 5
}
