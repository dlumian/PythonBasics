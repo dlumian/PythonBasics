{
 "cells": [
  {
   "cell_type": "markdown",
   "metadata": {},
   "source": [
    "# Housing Regression Example\n",
    "## EDA Notebook"
   ]
  },
  {
   "cell_type": "code",
   "execution_count": 2,
   "metadata": {},
   "outputs": [],
   "source": [
    "import os\n",
    "import pandas as pd\n",
    "import seaborn as sns"
   ]
  },
  {
   "cell_type": "code",
   "execution_count": 3,
   "metadata": {},
   "outputs": [
    {
     "data": {
      "text/plain": [
       "'/Users/dsl/Documents/GitHub/PythonBasics/RegressionExamples/housing/notebooks'"
      ]
     },
     "execution_count": 3,
     "metadata": {},
     "output_type": "execute_result"
    }
   ],
   "source": [
    "# Check working directory\n",
    "os.getcwd()"
   ]
  },
  {
   "cell_type": "code",
   "execution_count": 4,
   "metadata": {},
   "outputs": [],
   "source": [
    "# Define paths\n",
    "data_path = os.path.join('..', 'data')\n",
    "img_path = os.path.join('..', 'imgs')"
   ]
  },
  {
   "cell_type": "code",
   "execution_count": 5,
   "metadata": {},
   "outputs": [],
   "source": [
    "# Ensure dirs exist\n",
    "os.makedirs(data_path, exist_ok=True)\n",
    "os.makedirs(img_path, exist_ok=True)"
   ]
  },
  {
   "cell_type": "code",
   "execution_count": 6,
   "metadata": {},
   "outputs": [],
   "source": [
    "# Define file name for X-train data\n",
    "X_train_data_path = os.path.join(data_path, 'X_train.csv')"
   ]
  },
  {
   "cell_type": "code",
   "execution_count": 7,
   "metadata": {},
   "outputs": [],
   "source": [
    "# Define file name for y-train data\n",
    "y_train_data_path = os.path.join(data_path, 'y_train.csv')"
   ]
  },
  {
   "cell_type": "code",
   "execution_count": 8,
   "metadata": {},
   "outputs": [],
   "source": [
    "# Read in X and y training data\n",
    "X_train = pd.read_csv(X_train_data_path)\n",
    "y_train = pd.read_csv(y_train_data_path)"
   ]
  },
  {
   "cell_type": "code",
   "execution_count": 9,
   "metadata": {},
   "outputs": [
    {
     "data": {
      "text/html": [
       "<div>\n",
       "<style scoped>\n",
       "    .dataframe tbody tr th:only-of-type {\n",
       "        vertical-align: middle;\n",
       "    }\n",
       "\n",
       "    .dataframe tbody tr th {\n",
       "        vertical-align: top;\n",
       "    }\n",
       "\n",
       "    .dataframe thead th {\n",
       "        text-align: right;\n",
       "    }\n",
       "</style>\n",
       "<table border=\"1\" class=\"dataframe\">\n",
       "  <thead>\n",
       "    <tr style=\"text-align: right;\">\n",
       "      <th></th>\n",
       "      <th>MedInc</th>\n",
       "      <th>HouseAge</th>\n",
       "      <th>AveRooms</th>\n",
       "      <th>AveBedrms</th>\n",
       "      <th>Population</th>\n",
       "      <th>AveOccup</th>\n",
       "      <th>Latitude</th>\n",
       "      <th>Longitude</th>\n",
       "    </tr>\n",
       "  </thead>\n",
       "  <tbody>\n",
       "    <tr>\n",
       "      <th>0</th>\n",
       "      <td>0.9809</td>\n",
       "      <td>19.0</td>\n",
       "      <td>3.187726</td>\n",
       "      <td>1.129964</td>\n",
       "      <td>726.0</td>\n",
       "      <td>2.620939</td>\n",
       "      <td>33.98</td>\n",
       "      <td>-118.28</td>\n",
       "    </tr>\n",
       "    <tr>\n",
       "      <th>1</th>\n",
       "      <td>4.2232</td>\n",
       "      <td>33.0</td>\n",
       "      <td>6.189696</td>\n",
       "      <td>1.086651</td>\n",
       "      <td>1015.0</td>\n",
       "      <td>2.377049</td>\n",
       "      <td>37.46</td>\n",
       "      <td>-122.23</td>\n",
       "    </tr>\n",
       "    <tr>\n",
       "      <th>2</th>\n",
       "      <td>3.5488</td>\n",
       "      <td>42.0</td>\n",
       "      <td>4.821577</td>\n",
       "      <td>1.095436</td>\n",
       "      <td>1044.0</td>\n",
       "      <td>4.331950</td>\n",
       "      <td>33.79</td>\n",
       "      <td>-118.26</td>\n",
       "    </tr>\n",
       "    <tr>\n",
       "      <th>3</th>\n",
       "      <td>1.6469</td>\n",
       "      <td>24.0</td>\n",
       "      <td>4.274194</td>\n",
       "      <td>1.048387</td>\n",
       "      <td>1686.0</td>\n",
       "      <td>4.532258</td>\n",
       "      <td>35.87</td>\n",
       "      <td>-119.26</td>\n",
       "    </tr>\n",
       "    <tr>\n",
       "      <th>4</th>\n",
       "      <td>3.9909</td>\n",
       "      <td>14.0</td>\n",
       "      <td>4.608303</td>\n",
       "      <td>1.089350</td>\n",
       "      <td>2738.0</td>\n",
       "      <td>2.471119</td>\n",
       "      <td>37.54</td>\n",
       "      <td>-121.96</td>\n",
       "    </tr>\n",
       "  </tbody>\n",
       "</table>\n",
       "</div>"
      ],
      "text/plain": [
       "   MedInc  HouseAge  AveRooms  AveBedrms  Population  AveOccup  Latitude  \\\n",
       "0  0.9809      19.0  3.187726   1.129964       726.0  2.620939     33.98   \n",
       "1  4.2232      33.0  6.189696   1.086651      1015.0  2.377049     37.46   \n",
       "2  3.5488      42.0  4.821577   1.095436      1044.0  4.331950     33.79   \n",
       "3  1.6469      24.0  4.274194   1.048387      1686.0  4.532258     35.87   \n",
       "4  3.9909      14.0  4.608303   1.089350      2738.0  2.471119     37.54   \n",
       "\n",
       "   Longitude  \n",
       "0    -118.28  \n",
       "1    -122.23  \n",
       "2    -118.26  \n",
       "3    -119.26  \n",
       "4    -121.96  "
      ]
     },
     "execution_count": 9,
     "metadata": {},
     "output_type": "execute_result"
    }
   ],
   "source": [
    "# View top rows of X train df\n",
    "X_train.head()"
   ]
  },
  {
   "cell_type": "code",
   "execution_count": 10,
   "metadata": {},
   "outputs": [
    {
     "data": {
      "text/html": [
       "<div>\n",
       "<style scoped>\n",
       "    .dataframe tbody tr th:only-of-type {\n",
       "        vertical-align: middle;\n",
       "    }\n",
       "\n",
       "    .dataframe tbody tr th {\n",
       "        vertical-align: top;\n",
       "    }\n",
       "\n",
       "    .dataframe thead th {\n",
       "        text-align: right;\n",
       "    }\n",
       "</style>\n",
       "<table border=\"1\" class=\"dataframe\">\n",
       "  <thead>\n",
       "    <tr style=\"text-align: right;\">\n",
       "      <th></th>\n",
       "      <th>target</th>\n",
       "    </tr>\n",
       "  </thead>\n",
       "  <tbody>\n",
       "    <tr>\n",
       "      <th>0</th>\n",
       "      <td>1.214</td>\n",
       "    </tr>\n",
       "    <tr>\n",
       "      <th>1</th>\n",
       "      <td>3.637</td>\n",
       "    </tr>\n",
       "    <tr>\n",
       "      <th>2</th>\n",
       "      <td>2.056</td>\n",
       "    </tr>\n",
       "    <tr>\n",
       "      <th>3</th>\n",
       "      <td>0.476</td>\n",
       "    </tr>\n",
       "    <tr>\n",
       "      <th>4</th>\n",
       "      <td>2.360</td>\n",
       "    </tr>\n",
       "  </tbody>\n",
       "</table>\n",
       "</div>"
      ],
      "text/plain": [
       "   target\n",
       "0   1.214\n",
       "1   3.637\n",
       "2   2.056\n",
       "3   0.476\n",
       "4   2.360"
      ]
     },
     "execution_count": 10,
     "metadata": {},
     "output_type": "execute_result"
    }
   ],
   "source": [
    "# View top rows of y train df\n",
    "y_train.head()"
   ]
  },
  {
   "cell_type": "code",
   "execution_count": 11,
   "metadata": {},
   "outputs": [],
   "source": [
    "# Combine X and y dfs\n",
    "df = pd.concat([X_train, y_train], axis=1)"
   ]
  },
  {
   "cell_type": "code",
   "execution_count": 12,
   "metadata": {},
   "outputs": [
    {
     "data": {
      "text/html": [
       "<div>\n",
       "<style scoped>\n",
       "    .dataframe tbody tr th:only-of-type {\n",
       "        vertical-align: middle;\n",
       "    }\n",
       "\n",
       "    .dataframe tbody tr th {\n",
       "        vertical-align: top;\n",
       "    }\n",
       "\n",
       "    .dataframe thead th {\n",
       "        text-align: right;\n",
       "    }\n",
       "</style>\n",
       "<table border=\"1\" class=\"dataframe\">\n",
       "  <thead>\n",
       "    <tr style=\"text-align: right;\">\n",
       "      <th></th>\n",
       "      <th>MedInc</th>\n",
       "      <th>HouseAge</th>\n",
       "      <th>AveRooms</th>\n",
       "      <th>AveBedrms</th>\n",
       "      <th>Population</th>\n",
       "      <th>AveOccup</th>\n",
       "      <th>Latitude</th>\n",
       "      <th>Longitude</th>\n",
       "      <th>target</th>\n",
       "    </tr>\n",
       "  </thead>\n",
       "  <tbody>\n",
       "    <tr>\n",
       "      <th>0</th>\n",
       "      <td>0.9809</td>\n",
       "      <td>19.0</td>\n",
       "      <td>3.187726</td>\n",
       "      <td>1.129964</td>\n",
       "      <td>726.0</td>\n",
       "      <td>2.620939</td>\n",
       "      <td>33.98</td>\n",
       "      <td>-118.28</td>\n",
       "      <td>1.214</td>\n",
       "    </tr>\n",
       "    <tr>\n",
       "      <th>1</th>\n",
       "      <td>4.2232</td>\n",
       "      <td>33.0</td>\n",
       "      <td>6.189696</td>\n",
       "      <td>1.086651</td>\n",
       "      <td>1015.0</td>\n",
       "      <td>2.377049</td>\n",
       "      <td>37.46</td>\n",
       "      <td>-122.23</td>\n",
       "      <td>3.637</td>\n",
       "    </tr>\n",
       "    <tr>\n",
       "      <th>2</th>\n",
       "      <td>3.5488</td>\n",
       "      <td>42.0</td>\n",
       "      <td>4.821577</td>\n",
       "      <td>1.095436</td>\n",
       "      <td>1044.0</td>\n",
       "      <td>4.331950</td>\n",
       "      <td>33.79</td>\n",
       "      <td>-118.26</td>\n",
       "      <td>2.056</td>\n",
       "    </tr>\n",
       "    <tr>\n",
       "      <th>3</th>\n",
       "      <td>1.6469</td>\n",
       "      <td>24.0</td>\n",
       "      <td>4.274194</td>\n",
       "      <td>1.048387</td>\n",
       "      <td>1686.0</td>\n",
       "      <td>4.532258</td>\n",
       "      <td>35.87</td>\n",
       "      <td>-119.26</td>\n",
       "      <td>0.476</td>\n",
       "    </tr>\n",
       "    <tr>\n",
       "      <th>4</th>\n",
       "      <td>3.9909</td>\n",
       "      <td>14.0</td>\n",
       "      <td>4.608303</td>\n",
       "      <td>1.089350</td>\n",
       "      <td>2738.0</td>\n",
       "      <td>2.471119</td>\n",
       "      <td>37.54</td>\n",
       "      <td>-121.96</td>\n",
       "      <td>2.360</td>\n",
       "    </tr>\n",
       "  </tbody>\n",
       "</table>\n",
       "</div>"
      ],
      "text/plain": [
       "   MedInc  HouseAge  AveRooms  AveBedrms  Population  AveOccup  Latitude  \\\n",
       "0  0.9809      19.0  3.187726   1.129964       726.0  2.620939     33.98   \n",
       "1  4.2232      33.0  6.189696   1.086651      1015.0  2.377049     37.46   \n",
       "2  3.5488      42.0  4.821577   1.095436      1044.0  4.331950     33.79   \n",
       "3  1.6469      24.0  4.274194   1.048387      1686.0  4.532258     35.87   \n",
       "4  3.9909      14.0  4.608303   1.089350      2738.0  2.471119     37.54   \n",
       "\n",
       "   Longitude  target  \n",
       "0    -118.28   1.214  \n",
       "1    -122.23   3.637  \n",
       "2    -118.26   2.056  \n",
       "3    -119.26   0.476  \n",
       "4    -121.96   2.360  "
      ]
     },
     "execution_count": 12,
     "metadata": {},
     "output_type": "execute_result"
    }
   ],
   "source": [
    "# Check combined data\n",
    "df.head()"
   ]
  },
  {
   "cell_type": "code",
   "execution_count": 13,
   "metadata": {},
   "outputs": [
    {
     "data": {
      "text/plain": [
       "(13828, 9)"
      ]
     },
     "execution_count": 13,
     "metadata": {},
     "output_type": "execute_result"
    }
   ],
   "source": [
    "# Check shape of combined data\n",
    "df.shape"
   ]
  },
  {
   "cell_type": "code",
   "execution_count": 14,
   "metadata": {},
   "outputs": [
    {
     "name": "stdout",
     "output_type": "stream",
     "text": [
      "<class 'pandas.core.frame.DataFrame'>\n",
      "RangeIndex: 13828 entries, 0 to 13827\n",
      "Data columns (total 9 columns):\n",
      " #   Column      Non-Null Count  Dtype  \n",
      "---  ------      --------------  -----  \n",
      " 0   MedInc      13828 non-null  float64\n",
      " 1   HouseAge    13828 non-null  float64\n",
      " 2   AveRooms    13828 non-null  float64\n",
      " 3   AveBedrms   13828 non-null  float64\n",
      " 4   Population  13828 non-null  float64\n",
      " 5   AveOccup    13828 non-null  float64\n",
      " 6   Latitude    13828 non-null  float64\n",
      " 7   Longitude   13828 non-null  float64\n",
      " 8   target      13828 non-null  float64\n",
      "dtypes: float64(9)\n",
      "memory usage: 972.4 KB\n"
     ]
    }
   ],
   "source": [
    "# Built-in pandas function, returns None\n",
    "df.info()"
   ]
  },
  {
   "cell_type": "code",
   "execution_count": 15,
   "metadata": {},
   "outputs": [
    {
     "data": {
      "text/html": [
       "<div>\n",
       "<style scoped>\n",
       "    .dataframe tbody tr th:only-of-type {\n",
       "        vertical-align: middle;\n",
       "    }\n",
       "\n",
       "    .dataframe tbody tr th {\n",
       "        vertical-align: top;\n",
       "    }\n",
       "\n",
       "    .dataframe thead th {\n",
       "        text-align: right;\n",
       "    }\n",
       "</style>\n",
       "<table border=\"1\" class=\"dataframe\">\n",
       "  <thead>\n",
       "    <tr style=\"text-align: right;\">\n",
       "      <th></th>\n",
       "      <th>MedInc</th>\n",
       "      <th>HouseAge</th>\n",
       "      <th>AveRooms</th>\n",
       "      <th>AveBedrms</th>\n",
       "      <th>Population</th>\n",
       "      <th>AveOccup</th>\n",
       "      <th>Latitude</th>\n",
       "      <th>Longitude</th>\n",
       "      <th>target</th>\n",
       "    </tr>\n",
       "  </thead>\n",
       "  <tbody>\n",
       "    <tr>\n",
       "      <th>count</th>\n",
       "      <td>13828.000000</td>\n",
       "      <td>13828.000000</td>\n",
       "      <td>13828.000000</td>\n",
       "      <td>13828.000000</td>\n",
       "      <td>13828.000000</td>\n",
       "      <td>13828.000000</td>\n",
       "      <td>13828.000000</td>\n",
       "      <td>13828.000000</td>\n",
       "      <td>13828.000000</td>\n",
       "    </tr>\n",
       "    <tr>\n",
       "      <th>mean</th>\n",
       "      <td>3.876745</td>\n",
       "      <td>28.559662</td>\n",
       "      <td>5.436556</td>\n",
       "      <td>1.097533</td>\n",
       "      <td>1430.865924</td>\n",
       "      <td>3.128660</td>\n",
       "      <td>35.651238</td>\n",
       "      <td>-119.585098</td>\n",
       "      <td>2.066636</td>\n",
       "    </tr>\n",
       "    <tr>\n",
       "      <th>std</th>\n",
       "      <td>1.903102</td>\n",
       "      <td>12.600767</td>\n",
       "      <td>2.449446</td>\n",
       "      <td>0.445688</td>\n",
       "      <td>1146.236335</td>\n",
       "      <td>12.646130</td>\n",
       "      <td>2.134064</td>\n",
       "      <td>2.005127</td>\n",
       "      <td>1.153743</td>\n",
       "    </tr>\n",
       "    <tr>\n",
       "      <th>min</th>\n",
       "      <td>0.499900</td>\n",
       "      <td>1.000000</td>\n",
       "      <td>0.888889</td>\n",
       "      <td>0.333333</td>\n",
       "      <td>3.000000</td>\n",
       "      <td>0.692308</td>\n",
       "      <td>32.550000</td>\n",
       "      <td>-124.350000</td>\n",
       "      <td>0.149990</td>\n",
       "    </tr>\n",
       "    <tr>\n",
       "      <th>25%</th>\n",
       "      <td>2.568575</td>\n",
       "      <td>18.000000</td>\n",
       "      <td>4.459802</td>\n",
       "      <td>1.006623</td>\n",
       "      <td>793.000000</td>\n",
       "      <td>2.432189</td>\n",
       "      <td>33.940000</td>\n",
       "      <td>-121.810000</td>\n",
       "      <td>1.194000</td>\n",
       "    </tr>\n",
       "    <tr>\n",
       "      <th>50%</th>\n",
       "      <td>3.538750</td>\n",
       "      <td>29.000000</td>\n",
       "      <td>5.232422</td>\n",
       "      <td>1.049552</td>\n",
       "      <td>1170.500000</td>\n",
       "      <td>2.819702</td>\n",
       "      <td>34.270000</td>\n",
       "      <td>-118.510000</td>\n",
       "      <td>1.792000</td>\n",
       "    </tr>\n",
       "    <tr>\n",
       "      <th>75%</th>\n",
       "      <td>4.756600</td>\n",
       "      <td>37.000000</td>\n",
       "      <td>6.058566</td>\n",
       "      <td>1.100283</td>\n",
       "      <td>1729.000000</td>\n",
       "      <td>3.282093</td>\n",
       "      <td>37.720000</td>\n",
       "      <td>-118.010000</td>\n",
       "      <td>2.640250</td>\n",
       "    </tr>\n",
       "    <tr>\n",
       "      <th>max</th>\n",
       "      <td>15.000100</td>\n",
       "      <td>52.000000</td>\n",
       "      <td>141.909091</td>\n",
       "      <td>25.636364</td>\n",
       "      <td>35682.000000</td>\n",
       "      <td>1243.333333</td>\n",
       "      <td>41.950000</td>\n",
       "      <td>-114.310000</td>\n",
       "      <td>5.000010</td>\n",
       "    </tr>\n",
       "  </tbody>\n",
       "</table>\n",
       "</div>"
      ],
      "text/plain": [
       "             MedInc      HouseAge      AveRooms     AveBedrms    Population  \\\n",
       "count  13828.000000  13828.000000  13828.000000  13828.000000  13828.000000   \n",
       "mean       3.876745     28.559662      5.436556      1.097533   1430.865924   \n",
       "std        1.903102     12.600767      2.449446      0.445688   1146.236335   \n",
       "min        0.499900      1.000000      0.888889      0.333333      3.000000   \n",
       "25%        2.568575     18.000000      4.459802      1.006623    793.000000   \n",
       "50%        3.538750     29.000000      5.232422      1.049552   1170.500000   \n",
       "75%        4.756600     37.000000      6.058566      1.100283   1729.000000   \n",
       "max       15.000100     52.000000    141.909091     25.636364  35682.000000   \n",
       "\n",
       "           AveOccup      Latitude     Longitude        target  \n",
       "count  13828.000000  13828.000000  13828.000000  13828.000000  \n",
       "mean       3.128660     35.651238   -119.585098      2.066636  \n",
       "std       12.646130      2.134064      2.005127      1.153743  \n",
       "min        0.692308     32.550000   -124.350000      0.149990  \n",
       "25%        2.432189     33.940000   -121.810000      1.194000  \n",
       "50%        2.819702     34.270000   -118.510000      1.792000  \n",
       "75%        3.282093     37.720000   -118.010000      2.640250  \n",
       "max     1243.333333     41.950000   -114.310000      5.000010  "
      ]
     },
     "execution_count": 15,
     "metadata": {},
     "output_type": "execute_result"
    }
   ],
   "source": [
    "# Built-in pandas function, returns df\n",
    "df_desc = df.describe()\n",
    "df_desc"
   ]
  },
  {
   "cell_type": "code",
   "execution_count": 37,
   "metadata": {},
   "outputs": [],
   "source": [
    "desc_path = os.path.join(data_path, 'df_desc.csv')\n",
    "df_desc.to_csv(desc_path)"
   ]
  },
  {
   "cell_type": "code",
   "execution_count": 16,
   "metadata": {},
   "outputs": [],
   "source": [
    "from skimpy import skim_get_figure"
   ]
  },
  {
   "cell_type": "code",
   "execution_count": 17,
   "metadata": {},
   "outputs": [
    {
     "data": {
      "text/html": [
       "<pre style=\"white-space:pre;overflow-x:auto;line-height:normal;font-family:Menlo,'DejaVu Sans Mono',consolas,'Courier New',monospace\">╭──────────────────────────────────────────────── skimpy summary ─────────────────────────────────────────────────╮\n",
       "│ <span style=\"font-style: italic\">         Data Summary         </span> <span style=\"font-style: italic\">      Data Types       </span>                                                          │\n",
       "│ ┏━━━━━━━━━━━━━━━━━━━┳━━━━━━━━┓ ┏━━━━━━━━━━━━━┳━━━━━━━┓                                                          │\n",
       "│ ┃<span style=\"color: #008080; text-decoration-color: #008080; font-weight: bold\"> dataframe         </span>┃<span style=\"color: #008080; text-decoration-color: #008080; font-weight: bold\"> Values </span>┃ ┃<span style=\"color: #008080; text-decoration-color: #008080; font-weight: bold\"> Column Type </span>┃<span style=\"color: #008080; text-decoration-color: #008080; font-weight: bold\"> Count </span>┃                                                          │\n",
       "│ ┡━━━━━━━━━━━━━━━━━━━╇━━━━━━━━┩ ┡━━━━━━━━━━━━━╇━━━━━━━┩                                                          │\n",
       "│ │ Number of rows    │ 13828  │ │ float64     │ 9     │                                                          │\n",
       "│ │ Number of columns │ 9      │ └─────────────┴───────┘                                                          │\n",
       "│ └───────────────────┴────────┘                                                                                  │\n",
       "│ <span style=\"font-style: italic\">                                                    number                                                    </span>  │\n",
       "│ ┏━━━━━━━━━━━━━━━┳━━━━━┳━━━━━━━┳━━━━━━━━━━┳━━━━━━━━━┳━━━━━━━━━┳━━━━━━━━━┳━━━━━━━━━┳━━━━━━━━┳━━━━━━━━━┳━━━━━━━━┓  │\n",
       "│ ┃<span style=\"font-weight: bold\"> column_name   </span>┃<span style=\"font-weight: bold\"> NA  </span>┃<span style=\"font-weight: bold\"> NA %  </span>┃<span style=\"font-weight: bold\"> mean     </span>┃<span style=\"font-weight: bold\"> sd      </span>┃<span style=\"font-weight: bold\"> p0      </span>┃<span style=\"font-weight: bold\"> p25     </span>┃<span style=\"font-weight: bold\"> p50     </span>┃<span style=\"font-weight: bold\"> p75    </span>┃<span style=\"font-weight: bold\"> p100    </span>┃<span style=\"font-weight: bold\"> hist   </span>┃  │\n",
       "│ ┡━━━━━━━━━━━━━━━╇━━━━━╇━━━━━━━╇━━━━━━━━━━╇━━━━━━━━━╇━━━━━━━━━╇━━━━━━━━━╇━━━━━━━━━╇━━━━━━━━╇━━━━━━━━━╇━━━━━━━━┩  │\n",
       "│ │ <span style=\"color: #af87ff; text-decoration-color: #af87ff\">MedInc       </span> │ <span style=\"color: #008080; text-decoration-color: #008080\">  0</span> │ <span style=\"color: #008080; text-decoration-color: #008080\">    0</span> │ <span style=\"color: #008080; text-decoration-color: #008080\">   3.877</span> │ <span style=\"color: #008080; text-decoration-color: #008080\">  1.903</span> │ <span style=\"color: #008080; text-decoration-color: #008080\"> 0.4999</span> │ <span style=\"color: #008080; text-decoration-color: #008080\">  2.569</span> │ <span style=\"color: #008080; text-decoration-color: #008080\">  3.539</span> │ <span style=\"color: #008080; text-decoration-color: #008080\"> 4.757</span> │ <span style=\"color: #008080; text-decoration-color: #008080\">     15</span> │ <span style=\"color: #008000; text-decoration-color: #008000\"> ▅▇▂  </span> │  │\n",
       "│ │ <span style=\"color: #af87ff; text-decoration-color: #af87ff\">HouseAge     </span> │ <span style=\"color: #008080; text-decoration-color: #008080\">  0</span> │ <span style=\"color: #008080; text-decoration-color: #008080\">    0</span> │ <span style=\"color: #008080; text-decoration-color: #008080\">   28.56</span> │ <span style=\"color: #008080; text-decoration-color: #008080\">   12.6</span> │ <span style=\"color: #008080; text-decoration-color: #008080\">      1</span> │ <span style=\"color: #008080; text-decoration-color: #008080\">     18</span> │ <span style=\"color: #008080; text-decoration-color: #008080\">     29</span> │ <span style=\"color: #008080; text-decoration-color: #008080\">    37</span> │ <span style=\"color: #008080; text-decoration-color: #008080\">     52</span> │ <span style=\"color: #008000; text-decoration-color: #008000\">▂▆▇▇▇▅</span> │  │\n",
       "│ │ <span style=\"color: #af87ff; text-decoration-color: #af87ff\">AveRooms     </span> │ <span style=\"color: #008080; text-decoration-color: #008080\">  0</span> │ <span style=\"color: #008080; text-decoration-color: #008080\">    0</span> │ <span style=\"color: #008080; text-decoration-color: #008080\">   5.437</span> │ <span style=\"color: #008080; text-decoration-color: #008080\">  2.449</span> │ <span style=\"color: #008080; text-decoration-color: #008080\"> 0.8889</span> │ <span style=\"color: #008080; text-decoration-color: #008080\">   4.46</span> │ <span style=\"color: #008080; text-decoration-color: #008080\">  5.232</span> │ <span style=\"color: #008080; text-decoration-color: #008080\"> 6.059</span> │ <span style=\"color: #008080; text-decoration-color: #008080\">  141.9</span> │ <span style=\"color: #008000; text-decoration-color: #008000\">  ▇   </span> │  │\n",
       "│ │ <span style=\"color: #af87ff; text-decoration-color: #af87ff\">AveBedrms    </span> │ <span style=\"color: #008080; text-decoration-color: #008080\">  0</span> │ <span style=\"color: #008080; text-decoration-color: #008080\">    0</span> │ <span style=\"color: #008080; text-decoration-color: #008080\">   1.098</span> │ <span style=\"color: #008080; text-decoration-color: #008080\"> 0.4457</span> │ <span style=\"color: #008080; text-decoration-color: #008080\"> 0.3333</span> │ <span style=\"color: #008080; text-decoration-color: #008080\">  1.007</span> │ <span style=\"color: #008080; text-decoration-color: #008080\">   1.05</span> │ <span style=\"color: #008080; text-decoration-color: #008080\">   1.1</span> │ <span style=\"color: #008080; text-decoration-color: #008080\">  25.64</span> │ <span style=\"color: #008000; text-decoration-color: #008000\">  ▇   </span> │  │\n",
       "│ │ <span style=\"color: #af87ff; text-decoration-color: #af87ff\">Population   </span> │ <span style=\"color: #008080; text-decoration-color: #008080\">  0</span> │ <span style=\"color: #008080; text-decoration-color: #008080\">    0</span> │ <span style=\"color: #008080; text-decoration-color: #008080\">    1431</span> │ <span style=\"color: #008080; text-decoration-color: #008080\">   1146</span> │ <span style=\"color: #008080; text-decoration-color: #008080\">      3</span> │ <span style=\"color: #008080; text-decoration-color: #008080\">    793</span> │ <span style=\"color: #008080; text-decoration-color: #008080\">   1170</span> │ <span style=\"color: #008080; text-decoration-color: #008080\">  1729</span> │ <span style=\"color: #008080; text-decoration-color: #008080\">  35680</span> │ <span style=\"color: #008000; text-decoration-color: #008000\">  ▇   </span> │  │\n",
       "│ │ <span style=\"color: #af87ff; text-decoration-color: #af87ff\">AveOccup     </span> │ <span style=\"color: #008080; text-decoration-color: #008080\">  0</span> │ <span style=\"color: #008080; text-decoration-color: #008080\">    0</span> │ <span style=\"color: #008080; text-decoration-color: #008080\">   3.129</span> │ <span style=\"color: #008080; text-decoration-color: #008080\">  12.65</span> │ <span style=\"color: #008080; text-decoration-color: #008080\"> 0.6923</span> │ <span style=\"color: #008080; text-decoration-color: #008080\">  2.432</span> │ <span style=\"color: #008080; text-decoration-color: #008080\">   2.82</span> │ <span style=\"color: #008080; text-decoration-color: #008080\"> 3.282</span> │ <span style=\"color: #008080; text-decoration-color: #008080\">   1243</span> │ <span style=\"color: #008000; text-decoration-color: #008000\">  ▇   </span> │  │\n",
       "│ │ <span style=\"color: #af87ff; text-decoration-color: #af87ff\">Latitude     </span> │ <span style=\"color: #008080; text-decoration-color: #008080\">  0</span> │ <span style=\"color: #008080; text-decoration-color: #008080\">    0</span> │ <span style=\"color: #008080; text-decoration-color: #008080\">   35.65</span> │ <span style=\"color: #008080; text-decoration-color: #008080\">  2.134</span> │ <span style=\"color: #008080; text-decoration-color: #008080\">  32.55</span> │ <span style=\"color: #008080; text-decoration-color: #008080\">  33.94</span> │ <span style=\"color: #008080; text-decoration-color: #008080\">  34.27</span> │ <span style=\"color: #008080; text-decoration-color: #008080\"> 37.72</span> │ <span style=\"color: #008080; text-decoration-color: #008080\">  41.95</span> │ <span style=\"color: #008000; text-decoration-color: #008000\">▇▃▁▆▁ </span> │  │\n",
       "│ │ <span style=\"color: #af87ff; text-decoration-color: #af87ff\">Longitude    </span> │ <span style=\"color: #008080; text-decoration-color: #008080\">  0</span> │ <span style=\"color: #008080; text-decoration-color: #008080\">    0</span> │ <span style=\"color: #008080; text-decoration-color: #008080\">  -119.6</span> │ <span style=\"color: #008080; text-decoration-color: #008080\">  2.005</span> │ <span style=\"color: #008080; text-decoration-color: #008080\"> -124.3</span> │ <span style=\"color: #008080; text-decoration-color: #008080\"> -121.8</span> │ <span style=\"color: #008080; text-decoration-color: #008080\"> -118.5</span> │ <span style=\"color: #008080; text-decoration-color: #008080\">  -118</span> │ <span style=\"color: #008080; text-decoration-color: #008080\"> -114.3</span> │ <span style=\"color: #008000; text-decoration-color: #008000\">▁▆▂▇▃ </span> │  │\n",
       "│ │ <span style=\"color: #af87ff; text-decoration-color: #af87ff\">target       </span> │ <span style=\"color: #008080; text-decoration-color: #008080\">  0</span> │ <span style=\"color: #008080; text-decoration-color: #008080\">    0</span> │ <span style=\"color: #008080; text-decoration-color: #008080\">   2.067</span> │ <span style=\"color: #008080; text-decoration-color: #008080\">  1.154</span> │ <span style=\"color: #008080; text-decoration-color: #008080\">   0.15</span> │ <span style=\"color: #008080; text-decoration-color: #008080\">  1.194</span> │ <span style=\"color: #008080; text-decoration-color: #008080\">  1.792</span> │ <span style=\"color: #008080; text-decoration-color: #008080\">  2.64</span> │ <span style=\"color: #008080; text-decoration-color: #008080\">      5</span> │ <span style=\"color: #008000; text-decoration-color: #008000\">▃▇▆▃▂▂</span> │  │\n",
       "│ └───────────────┴─────┴───────┴──────────┴─────────┴─────────┴─────────┴─────────┴────────┴─────────┴────────┘  │\n",
       "╰────────────────────────────────────────────────────── End ──────────────────────────────────────────────────────╯\n",
       "</pre>\n"
      ],
      "text/plain": [
       "╭──────────────────────────────────────────────── skimpy summary ─────────────────────────────────────────────────╮\n",
       "│ \u001b[3m         Data Summary         \u001b[0m \u001b[3m      Data Types       \u001b[0m                                                          │\n",
       "│ ┏━━━━━━━━━━━━━━━━━━━┳━━━━━━━━┓ ┏━━━━━━━━━━━━━┳━━━━━━━┓                                                          │\n",
       "│ ┃\u001b[1;36m \u001b[0m\u001b[1;36mdataframe        \u001b[0m\u001b[1;36m \u001b[0m┃\u001b[1;36m \u001b[0m\u001b[1;36mValues\u001b[0m\u001b[1;36m \u001b[0m┃ ┃\u001b[1;36m \u001b[0m\u001b[1;36mColumn Type\u001b[0m\u001b[1;36m \u001b[0m┃\u001b[1;36m \u001b[0m\u001b[1;36mCount\u001b[0m\u001b[1;36m \u001b[0m┃                                                          │\n",
       "│ ┡━━━━━━━━━━━━━━━━━━━╇━━━━━━━━┩ ┡━━━━━━━━━━━━━╇━━━━━━━┩                                                          │\n",
       "│ │ Number of rows    │ 13828  │ │ float64     │ 9     │                                                          │\n",
       "│ │ Number of columns │ 9      │ └─────────────┴───────┘                                                          │\n",
       "│ └───────────────────┴────────┘                                                                                  │\n",
       "│ \u001b[3m                                                    number                                                    \u001b[0m  │\n",
       "│ ┏━━━━━━━━━━━━━━━┳━━━━━┳━━━━━━━┳━━━━━━━━━━┳━━━━━━━━━┳━━━━━━━━━┳━━━━━━━━━┳━━━━━━━━━┳━━━━━━━━┳━━━━━━━━━┳━━━━━━━━┓  │\n",
       "│ ┃\u001b[1m \u001b[0m\u001b[1mcolumn_name  \u001b[0m\u001b[1m \u001b[0m┃\u001b[1m \u001b[0m\u001b[1mNA \u001b[0m\u001b[1m \u001b[0m┃\u001b[1m \u001b[0m\u001b[1mNA % \u001b[0m\u001b[1m \u001b[0m┃\u001b[1m \u001b[0m\u001b[1mmean    \u001b[0m\u001b[1m \u001b[0m┃\u001b[1m \u001b[0m\u001b[1msd     \u001b[0m\u001b[1m \u001b[0m┃\u001b[1m \u001b[0m\u001b[1mp0     \u001b[0m\u001b[1m \u001b[0m┃\u001b[1m \u001b[0m\u001b[1mp25    \u001b[0m\u001b[1m \u001b[0m┃\u001b[1m \u001b[0m\u001b[1mp50    \u001b[0m\u001b[1m \u001b[0m┃\u001b[1m \u001b[0m\u001b[1mp75   \u001b[0m\u001b[1m \u001b[0m┃\u001b[1m \u001b[0m\u001b[1mp100   \u001b[0m\u001b[1m \u001b[0m┃\u001b[1m \u001b[0m\u001b[1mhist  \u001b[0m\u001b[1m \u001b[0m┃  │\n",
       "│ ┡━━━━━━━━━━━━━━━╇━━━━━╇━━━━━━━╇━━━━━━━━━━╇━━━━━━━━━╇━━━━━━━━━╇━━━━━━━━━╇━━━━━━━━━╇━━━━━━━━╇━━━━━━━━━╇━━━━━━━━┩  │\n",
       "│ │ \u001b[38;5;141mMedInc       \u001b[0m │ \u001b[36m  0\u001b[0m │ \u001b[36m    0\u001b[0m │ \u001b[36m   3.877\u001b[0m │ \u001b[36m  1.903\u001b[0m │ \u001b[36m 0.4999\u001b[0m │ \u001b[36m  2.569\u001b[0m │ \u001b[36m  3.539\u001b[0m │ \u001b[36m 4.757\u001b[0m │ \u001b[36m     15\u001b[0m │ \u001b[32m ▅▇▂  \u001b[0m │  │\n",
       "│ │ \u001b[38;5;141mHouseAge     \u001b[0m │ \u001b[36m  0\u001b[0m │ \u001b[36m    0\u001b[0m │ \u001b[36m   28.56\u001b[0m │ \u001b[36m   12.6\u001b[0m │ \u001b[36m      1\u001b[0m │ \u001b[36m     18\u001b[0m │ \u001b[36m     29\u001b[0m │ \u001b[36m    37\u001b[0m │ \u001b[36m     52\u001b[0m │ \u001b[32m▂▆▇▇▇▅\u001b[0m │  │\n",
       "│ │ \u001b[38;5;141mAveRooms     \u001b[0m │ \u001b[36m  0\u001b[0m │ \u001b[36m    0\u001b[0m │ \u001b[36m   5.437\u001b[0m │ \u001b[36m  2.449\u001b[0m │ \u001b[36m 0.8889\u001b[0m │ \u001b[36m   4.46\u001b[0m │ \u001b[36m  5.232\u001b[0m │ \u001b[36m 6.059\u001b[0m │ \u001b[36m  141.9\u001b[0m │ \u001b[32m  ▇   \u001b[0m │  │\n",
       "│ │ \u001b[38;5;141mAveBedrms    \u001b[0m │ \u001b[36m  0\u001b[0m │ \u001b[36m    0\u001b[0m │ \u001b[36m   1.098\u001b[0m │ \u001b[36m 0.4457\u001b[0m │ \u001b[36m 0.3333\u001b[0m │ \u001b[36m  1.007\u001b[0m │ \u001b[36m   1.05\u001b[0m │ \u001b[36m   1.1\u001b[0m │ \u001b[36m  25.64\u001b[0m │ \u001b[32m  ▇   \u001b[0m │  │\n",
       "│ │ \u001b[38;5;141mPopulation   \u001b[0m │ \u001b[36m  0\u001b[0m │ \u001b[36m    0\u001b[0m │ \u001b[36m    1431\u001b[0m │ \u001b[36m   1146\u001b[0m │ \u001b[36m      3\u001b[0m │ \u001b[36m    793\u001b[0m │ \u001b[36m   1170\u001b[0m │ \u001b[36m  1729\u001b[0m │ \u001b[36m  35680\u001b[0m │ \u001b[32m  ▇   \u001b[0m │  │\n",
       "│ │ \u001b[38;5;141mAveOccup     \u001b[0m │ \u001b[36m  0\u001b[0m │ \u001b[36m    0\u001b[0m │ \u001b[36m   3.129\u001b[0m │ \u001b[36m  12.65\u001b[0m │ \u001b[36m 0.6923\u001b[0m │ \u001b[36m  2.432\u001b[0m │ \u001b[36m   2.82\u001b[0m │ \u001b[36m 3.282\u001b[0m │ \u001b[36m   1243\u001b[0m │ \u001b[32m  ▇   \u001b[0m │  │\n",
       "│ │ \u001b[38;5;141mLatitude     \u001b[0m │ \u001b[36m  0\u001b[0m │ \u001b[36m    0\u001b[0m │ \u001b[36m   35.65\u001b[0m │ \u001b[36m  2.134\u001b[0m │ \u001b[36m  32.55\u001b[0m │ \u001b[36m  33.94\u001b[0m │ \u001b[36m  34.27\u001b[0m │ \u001b[36m 37.72\u001b[0m │ \u001b[36m  41.95\u001b[0m │ \u001b[32m▇▃▁▆▁ \u001b[0m │  │\n",
       "│ │ \u001b[38;5;141mLongitude    \u001b[0m │ \u001b[36m  0\u001b[0m │ \u001b[36m    0\u001b[0m │ \u001b[36m  -119.6\u001b[0m │ \u001b[36m  2.005\u001b[0m │ \u001b[36m -124.3\u001b[0m │ \u001b[36m -121.8\u001b[0m │ \u001b[36m -118.5\u001b[0m │ \u001b[36m  -118\u001b[0m │ \u001b[36m -114.3\u001b[0m │ \u001b[32m▁▆▂▇▃ \u001b[0m │  │\n",
       "│ │ \u001b[38;5;141mtarget       \u001b[0m │ \u001b[36m  0\u001b[0m │ \u001b[36m    0\u001b[0m │ \u001b[36m   2.067\u001b[0m │ \u001b[36m  1.154\u001b[0m │ \u001b[36m   0.15\u001b[0m │ \u001b[36m  1.194\u001b[0m │ \u001b[36m  1.792\u001b[0m │ \u001b[36m  2.64\u001b[0m │ \u001b[36m      5\u001b[0m │ \u001b[32m▃▇▆▃▂▂\u001b[0m │  │\n",
       "│ └───────────────┴─────┴───────┴──────────┴─────────┴─────────┴─────────┴─────────┴────────┴─────────┴────────┘  │\n",
       "╰────────────────────────────────────────────────────── End ──────────────────────────────────────────────────────╯\n"
      ]
     },
     "metadata": {},
     "output_type": "display_data"
    }
   ],
   "source": [
    "# Set save path and generate skim report\n",
    "skim_img_path = os.path.join(img_path, 'skim_summary.svg')\n",
    "skim_get_figure(df, save_path=skim_img_path)"
   ]
  }
 ],
 "metadata": {
  "kernelspec": {
   "display_name": "Python 3 (ipykernel)",
   "language": "python",
   "name": "python3"
  },
  "language_info": {
   "codemirror_mode": {
    "name": "ipython",
    "version": 3
   },
   "file_extension": ".py",
   "mimetype": "text/x-python",
   "name": "python",
   "nbconvert_exporter": "python",
   "pygments_lexer": "ipython3",
   "version": "3.11.7"
  }
 },
 "nbformat": 4,
 "nbformat_minor": 4
}
